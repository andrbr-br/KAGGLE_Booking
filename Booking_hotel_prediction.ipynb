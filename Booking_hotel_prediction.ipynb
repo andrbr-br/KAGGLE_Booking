{
 "cells": [
  {
   "cell_type": "code",
   "execution_count": 180,
   "metadata": {},
   "outputs": [],
   "source": [
    "# cтандартные python библиотеки\n",
    "import os\n",
    "import time\n",
    "\n",
    "# базовые DS библиотеки\n",
    "import numpy as np \n",
    "import pandas as pd\n",
    "\n",
    "\n",
    "# библиотеки визуализации\n",
    "import matplotlib.pyplot as plt\n",
    "%matplotlib inline\n",
    "import seaborn as sns\n",
    "import plotly.express as px\n",
    "\n",
    "# функции для разделения датасета:\n",
    "from sklearn.model_selection import train_test_split\n",
    "from sklearn.preprocessing import PolynomialFeatures\n",
    "from sklearn.preprocessing import StandardScaler\n",
    "\n",
    "# библиотеки для кодирования данных\n",
    "import category_encoders as ce\n",
    "\n",
    "# статистические тесты\n",
    "from scipy.stats import normaltest # Тест на нормальность Д'Агостино\n",
    "import scipy.stats as stats\n",
    "\n",
    "# для подсчета тегов\n",
    "from collections import Counter\n",
    "\n",
    "# Для анализа тональности текста\n",
    "import nltk\n",
    "from nltk.sentiment.vader import SentimentIntensityAnalyzer\n",
    "\n"
   ]
  },
  {
   "cell_type": "code",
   "execution_count": 181,
   "metadata": {},
   "outputs": [],
   "source": [
    "# всегда фиксируйте RANDOM_SEED, чтобы ваши эксперименты были воспроизводимы!\n",
    "RANDOM_SEED = 42"
   ]
  },
  {
   "cell_type": "code",
   "execution_count": 182,
   "metadata": {},
   "outputs": [],
   "source": [
    "# зафиксируем версию пакетов, чтобы эксперименты были воспроизводимы:\n",
    "!pip freeze > requirements.txt"
   ]
  },
  {
   "cell_type": "markdown",
   "metadata": {},
   "source": [
    "# 1. Загрузка данных и проверка структуры."
   ]
  },
  {
   "cell_type": "code",
   "execution_count": 183,
   "metadata": {},
   "outputs": [],
   "source": [
    "# Подгрузим наши данные из соревнования\n",
    "\n",
    "#DATA_DIR = '/kaggle/input/sf-booking/'\n",
    "#DATA_DIR = 'data/'\n",
    "df_train = pd.read_csv('hotels_train.csv') # датасет для обучения\n",
    "df_test = pd.read_csv('hotels_test.csv') # датасет для предсказания\n",
    "sample_submission = pd.read_csv('submission.csv') # самбмишн"
   ]
  },
  {
   "cell_type": "code",
   "execution_count": 184,
   "metadata": {},
   "outputs": [
    {
     "name": "stdout",
     "output_type": "stream",
     "text": [
      "<class 'pandas.core.frame.DataFrame'>\n",
      "RangeIndex: 386803 entries, 0 to 386802\n",
      "Data columns (total 17 columns):\n",
      " #   Column                                      Non-Null Count   Dtype  \n",
      "---  ------                                      --------------   -----  \n",
      " 0   hotel_address                               386803 non-null  object \n",
      " 1   additional_number_of_scoring                386803 non-null  int64  \n",
      " 2   review_date                                 386803 non-null  object \n",
      " 3   average_score                               386803 non-null  float64\n",
      " 4   hotel_name                                  386803 non-null  object \n",
      " 5   reviewer_nationality                        386803 non-null  object \n",
      " 6   negative_review                             386803 non-null  object \n",
      " 7   review_total_negative_word_counts           386803 non-null  int64  \n",
      " 8   total_number_of_reviews                     386803 non-null  int64  \n",
      " 9   positive_review                             386803 non-null  object \n",
      " 10  review_total_positive_word_counts           386803 non-null  int64  \n",
      " 11  total_number_of_reviews_reviewer_has_given  386803 non-null  int64  \n",
      " 12  reviewer_score                              386803 non-null  float64\n",
      " 13  tags                                        386803 non-null  object \n",
      " 14  days_since_review                           386803 non-null  object \n",
      " 15  lat                                         384355 non-null  float64\n",
      " 16  lng                                         384355 non-null  float64\n",
      "dtypes: float64(4), int64(5), object(8)\n",
      "memory usage: 50.2+ MB\n"
     ]
    }
   ],
   "source": [
    "df_train.info()"
   ]
  },
  {
   "cell_type": "code",
   "execution_count": 185,
   "metadata": {},
   "outputs": [
    {
     "name": "stdout",
     "output_type": "stream",
     "text": [
      "<class 'pandas.core.frame.DataFrame'>\n",
      "RangeIndex: 128935 entries, 0 to 128934\n",
      "Data columns (total 16 columns):\n",
      " #   Column                                      Non-Null Count   Dtype  \n",
      "---  ------                                      --------------   -----  \n",
      " 0   hotel_address                               128935 non-null  object \n",
      " 1   additional_number_of_scoring                128935 non-null  int64  \n",
      " 2   review_date                                 128935 non-null  object \n",
      " 3   average_score                               128935 non-null  float64\n",
      " 4   hotel_name                                  128935 non-null  object \n",
      " 5   reviewer_nationality                        128935 non-null  object \n",
      " 6   negative_review                             128935 non-null  object \n",
      " 7   review_total_negative_word_counts           128935 non-null  int64  \n",
      " 8   total_number_of_reviews                     128935 non-null  int64  \n",
      " 9   positive_review                             128935 non-null  object \n",
      " 10  review_total_positive_word_counts           128935 non-null  int64  \n",
      " 11  total_number_of_reviews_reviewer_has_given  128935 non-null  int64  \n",
      " 12  tags                                        128935 non-null  object \n",
      " 13  days_since_review                           128935 non-null  object \n",
      " 14  lat                                         128115 non-null  float64\n",
      " 15  lng                                         128115 non-null  float64\n",
      "dtypes: float64(3), int64(5), object(8)\n",
      "memory usage: 15.7+ MB\n"
     ]
    }
   ],
   "source": [
    "df_test.info()"
   ]
  },
  {
   "cell_type": "code",
   "execution_count": 186,
   "metadata": {},
   "outputs": [
    {
     "name": "stdout",
     "output_type": "stream",
     "text": [
      "<class 'pandas.core.frame.DataFrame'>\n",
      "RangeIndex: 128935 entries, 0 to 128934\n",
      "Data columns (total 2 columns):\n",
      " #   Column          Non-Null Count   Dtype\n",
      "---  ------          --------------   -----\n",
      " 0   reviewer_score  128935 non-null  int64\n",
      " 1   id              128935 non-null  int64\n",
      "dtypes: int64(2)\n",
      "memory usage: 2.0 MB\n"
     ]
    }
   ],
   "source": [
    "sample_submission.info()"
   ]
  },
  {
   "cell_type": "code",
   "execution_count": 187,
   "metadata": {},
   "outputs": [],
   "source": [
    "# ВАЖНО! дря корректной обработки признаков объединяем трейн и тест в один датасет\n",
    "df_train['sample'] = 1 # помечаем где у нас трейн\n",
    "df_test['sample'] = 0 # помечаем где у нас тест\n",
    "df_test['reviewer_score'] = 0 # в тесте у нас нет значения reviewer_score, мы его должны предсказать, по этому пока просто заполняем нулями\n",
    "\n",
    "data = pd.concat([df_train, df_test], ignore_index=True)\n",
    "data['sample'] = data['sample'].astype('category') # признак 'sample' категориальный\n"
   ]
  },
  {
   "cell_type": "code",
   "execution_count": 188,
   "metadata": {},
   "outputs": [
    {
     "name": "stdout",
     "output_type": "stream",
     "text": [
      "<class 'pandas.core.frame.DataFrame'>\n",
      "RangeIndex: 515738 entries, 0 to 515737\n",
      "Data columns (total 18 columns):\n",
      " #   Column                                      Non-Null Count   Dtype   \n",
      "---  ------                                      --------------   -----   \n",
      " 0   hotel_address                               515738 non-null  object  \n",
      " 1   additional_number_of_scoring                515738 non-null  int64   \n",
      " 2   review_date                                 515738 non-null  object  \n",
      " 3   average_score                               515738 non-null  float64 \n",
      " 4   hotel_name                                  515738 non-null  object  \n",
      " 5   reviewer_nationality                        515738 non-null  object  \n",
      " 6   negative_review                             515738 non-null  object  \n",
      " 7   review_total_negative_word_counts           515738 non-null  int64   \n",
      " 8   total_number_of_reviews                     515738 non-null  int64   \n",
      " 9   positive_review                             515738 non-null  object  \n",
      " 10  review_total_positive_word_counts           515738 non-null  int64   \n",
      " 11  total_number_of_reviews_reviewer_has_given  515738 non-null  int64   \n",
      " 12  reviewer_score                              515738 non-null  float64 \n",
      " 13  tags                                        515738 non-null  object  \n",
      " 14  days_since_review                           515738 non-null  object  \n",
      " 15  lat                                         512470 non-null  float64 \n",
      " 16  lng                                         512470 non-null  float64 \n",
      " 17  sample                                      515738 non-null  category\n",
      "dtypes: category(1), float64(4), int64(5), object(8)\n",
      "memory usage: 67.4+ MB\n"
     ]
    },
    {
     "data": {
      "text/plain": [
       "None"
      ]
     },
     "metadata": {},
     "output_type": "display_data"
    },
    {
     "data": {
      "text/html": [
       "<div>\n",
       "<style scoped>\n",
       "    .dataframe tbody tr th:only-of-type {\n",
       "        vertical-align: middle;\n",
       "    }\n",
       "\n",
       "    .dataframe tbody tr th {\n",
       "        vertical-align: top;\n",
       "    }\n",
       "\n",
       "    .dataframe thead th {\n",
       "        text-align: right;\n",
       "    }\n",
       "</style>\n",
       "<table border=\"1\" class=\"dataframe\">\n",
       "  <thead>\n",
       "    <tr style=\"text-align: right;\">\n",
       "      <th></th>\n",
       "      <th>additional_number_of_scoring</th>\n",
       "      <th>average_score</th>\n",
       "      <th>review_total_negative_word_counts</th>\n",
       "      <th>total_number_of_reviews</th>\n",
       "      <th>review_total_positive_word_counts</th>\n",
       "      <th>total_number_of_reviews_reviewer_has_given</th>\n",
       "      <th>reviewer_score</th>\n",
       "      <th>lat</th>\n",
       "      <th>lng</th>\n",
       "    </tr>\n",
       "  </thead>\n",
       "  <tbody>\n",
       "    <tr>\n",
       "      <th>count</th>\n",
       "      <td>515738.000000</td>\n",
       "      <td>515738.000000</td>\n",
       "      <td>515738.000000</td>\n",
       "      <td>515738.000000</td>\n",
       "      <td>515738.000000</td>\n",
       "      <td>515738.000000</td>\n",
       "      <td>515738.000000</td>\n",
       "      <td>512470.000000</td>\n",
       "      <td>512470.000000</td>\n",
       "    </tr>\n",
       "    <tr>\n",
       "      <th>mean</th>\n",
       "      <td>498.081836</td>\n",
       "      <td>8.397487</td>\n",
       "      <td>18.539450</td>\n",
       "      <td>2743.743944</td>\n",
       "      <td>17.776458</td>\n",
       "      <td>7.166001</td>\n",
       "      <td>6.297672</td>\n",
       "      <td>49.442439</td>\n",
       "      <td>2.823803</td>\n",
       "    </tr>\n",
       "    <tr>\n",
       "      <th>std</th>\n",
       "      <td>500.538467</td>\n",
       "      <td>0.548048</td>\n",
       "      <td>29.690831</td>\n",
       "      <td>2317.464868</td>\n",
       "      <td>21.804185</td>\n",
       "      <td>11.040228</td>\n",
       "      <td>3.902295</td>\n",
       "      <td>3.466325</td>\n",
       "      <td>4.579425</td>\n",
       "    </tr>\n",
       "    <tr>\n",
       "      <th>min</th>\n",
       "      <td>1.000000</td>\n",
       "      <td>5.200000</td>\n",
       "      <td>0.000000</td>\n",
       "      <td>43.000000</td>\n",
       "      <td>0.000000</td>\n",
       "      <td>1.000000</td>\n",
       "      <td>0.000000</td>\n",
       "      <td>41.328376</td>\n",
       "      <td>-0.369758</td>\n",
       "    </tr>\n",
       "    <tr>\n",
       "      <th>25%</th>\n",
       "      <td>169.000000</td>\n",
       "      <td>8.100000</td>\n",
       "      <td>2.000000</td>\n",
       "      <td>1161.000000</td>\n",
       "      <td>5.000000</td>\n",
       "      <td>1.000000</td>\n",
       "      <td>0.625000</td>\n",
       "      <td>48.214662</td>\n",
       "      <td>-0.143372</td>\n",
       "    </tr>\n",
       "    <tr>\n",
       "      <th>50%</th>\n",
       "      <td>341.000000</td>\n",
       "      <td>8.400000</td>\n",
       "      <td>9.000000</td>\n",
       "      <td>2134.000000</td>\n",
       "      <td>11.000000</td>\n",
       "      <td>3.000000</td>\n",
       "      <td>7.900000</td>\n",
       "      <td>51.499981</td>\n",
       "      <td>0.010607</td>\n",
       "    </tr>\n",
       "    <tr>\n",
       "      <th>75%</th>\n",
       "      <td>660.000000</td>\n",
       "      <td>8.800000</td>\n",
       "      <td>23.000000</td>\n",
       "      <td>3613.000000</td>\n",
       "      <td>22.000000</td>\n",
       "      <td>8.000000</td>\n",
       "      <td>9.600000</td>\n",
       "      <td>51.516288</td>\n",
       "      <td>4.834443</td>\n",
       "    </tr>\n",
       "    <tr>\n",
       "      <th>max</th>\n",
       "      <td>2682.000000</td>\n",
       "      <td>9.800000</td>\n",
       "      <td>408.000000</td>\n",
       "      <td>16670.000000</td>\n",
       "      <td>395.000000</td>\n",
       "      <td>355.000000</td>\n",
       "      <td>10.000000</td>\n",
       "      <td>52.400181</td>\n",
       "      <td>16.429233</td>\n",
       "    </tr>\n",
       "  </tbody>\n",
       "</table>\n",
       "</div>"
      ],
      "text/plain": [
       "       additional_number_of_scoring  average_score  \\\n",
       "count                 515738.000000  515738.000000   \n",
       "mean                     498.081836       8.397487   \n",
       "std                      500.538467       0.548048   \n",
       "min                        1.000000       5.200000   \n",
       "25%                      169.000000       8.100000   \n",
       "50%                      341.000000       8.400000   \n",
       "75%                      660.000000       8.800000   \n",
       "max                     2682.000000       9.800000   \n",
       "\n",
       "       review_total_negative_word_counts  total_number_of_reviews  \\\n",
       "count                      515738.000000            515738.000000   \n",
       "mean                           18.539450              2743.743944   \n",
       "std                            29.690831              2317.464868   \n",
       "min                             0.000000                43.000000   \n",
       "25%                             2.000000              1161.000000   \n",
       "50%                             9.000000              2134.000000   \n",
       "75%                            23.000000              3613.000000   \n",
       "max                           408.000000             16670.000000   \n",
       "\n",
       "       review_total_positive_word_counts  \\\n",
       "count                      515738.000000   \n",
       "mean                           17.776458   \n",
       "std                            21.804185   \n",
       "min                             0.000000   \n",
       "25%                             5.000000   \n",
       "50%                            11.000000   \n",
       "75%                            22.000000   \n",
       "max                           395.000000   \n",
       "\n",
       "       total_number_of_reviews_reviewer_has_given  reviewer_score  \\\n",
       "count                               515738.000000   515738.000000   \n",
       "mean                                     7.166001        6.297672   \n",
       "std                                     11.040228        3.902295   \n",
       "min                                      1.000000        0.000000   \n",
       "25%                                      1.000000        0.625000   \n",
       "50%                                      3.000000        7.900000   \n",
       "75%                                      8.000000        9.600000   \n",
       "max                                    355.000000       10.000000   \n",
       "\n",
       "                 lat            lng  \n",
       "count  512470.000000  512470.000000  \n",
       "mean       49.442439       2.823803  \n",
       "std         3.466325       4.579425  \n",
       "min        41.328376      -0.369758  \n",
       "25%        48.214662      -0.143372  \n",
       "50%        51.499981       0.010607  \n",
       "75%        51.516288       4.834443  \n",
       "max        52.400181      16.429233  "
      ]
     },
     "metadata": {},
     "output_type": "display_data"
    },
    {
     "data": {
      "text/html": [
       "<div>\n",
       "<style scoped>\n",
       "    .dataframe tbody tr th:only-of-type {\n",
       "        vertical-align: middle;\n",
       "    }\n",
       "\n",
       "    .dataframe tbody tr th {\n",
       "        vertical-align: top;\n",
       "    }\n",
       "\n",
       "    .dataframe thead th {\n",
       "        text-align: right;\n",
       "    }\n",
       "</style>\n",
       "<table border=\"1\" class=\"dataframe\">\n",
       "  <thead>\n",
       "    <tr style=\"text-align: right;\">\n",
       "      <th></th>\n",
       "      <th>hotel_address</th>\n",
       "      <th>review_date</th>\n",
       "      <th>hotel_name</th>\n",
       "      <th>reviewer_nationality</th>\n",
       "      <th>negative_review</th>\n",
       "      <th>positive_review</th>\n",
       "      <th>tags</th>\n",
       "      <th>days_since_review</th>\n",
       "    </tr>\n",
       "  </thead>\n",
       "  <tbody>\n",
       "    <tr>\n",
       "      <th>count</th>\n",
       "      <td>515738</td>\n",
       "      <td>515738</td>\n",
       "      <td>515738</td>\n",
       "      <td>515738</td>\n",
       "      <td>515738</td>\n",
       "      <td>515738</td>\n",
       "      <td>515738</td>\n",
       "      <td>515738</td>\n",
       "    </tr>\n",
       "    <tr>\n",
       "      <th>unique</th>\n",
       "      <td>1493</td>\n",
       "      <td>731</td>\n",
       "      <td>1492</td>\n",
       "      <td>227</td>\n",
       "      <td>330011</td>\n",
       "      <td>412601</td>\n",
       "      <td>55242</td>\n",
       "      <td>731</td>\n",
       "    </tr>\n",
       "    <tr>\n",
       "      <th>top</th>\n",
       "      <td>163 Marsh Wall Docklands Tower Hamlets London ...</td>\n",
       "      <td>8/2/2017</td>\n",
       "      <td>Britannia International Hotel Canary Wharf</td>\n",
       "      <td>United Kingdom</td>\n",
       "      <td>No Negative</td>\n",
       "      <td>No Positive</td>\n",
       "      <td>[' Leisure trip ', ' Couple ', ' Double Room '...</td>\n",
       "      <td>1 days</td>\n",
       "    </tr>\n",
       "    <tr>\n",
       "      <th>freq</th>\n",
       "      <td>4789</td>\n",
       "      <td>2585</td>\n",
       "      <td>4789</td>\n",
       "      <td>245246</td>\n",
       "      <td>127890</td>\n",
       "      <td>35946</td>\n",
       "      <td>5101</td>\n",
       "      <td>2585</td>\n",
       "    </tr>\n",
       "  </tbody>\n",
       "</table>\n",
       "</div>"
      ],
      "text/plain": [
       "                                            hotel_address review_date  \\\n",
       "count                                              515738      515738   \n",
       "unique                                               1493         731   \n",
       "top     163 Marsh Wall Docklands Tower Hamlets London ...    8/2/2017   \n",
       "freq                                                 4789        2585   \n",
       "\n",
       "                                        hotel_name reviewer_nationality  \\\n",
       "count                                       515738               515738   \n",
       "unique                                        1492                  227   \n",
       "top     Britannia International Hotel Canary Wharf      United Kingdom    \n",
       "freq                                          4789               245246   \n",
       "\n",
       "       negative_review positive_review  \\\n",
       "count           515738          515738   \n",
       "unique          330011          412601   \n",
       "top        No Negative     No Positive   \n",
       "freq            127890           35946   \n",
       "\n",
       "                                                     tags days_since_review  \n",
       "count                                              515738            515738  \n",
       "unique                                              55242               731  \n",
       "top     [' Leisure trip ', ' Couple ', ' Double Room '...            1 days  \n",
       "freq                                                 5101              2585  "
      ]
     },
     "metadata": {},
     "output_type": "display_data"
    }
   ],
   "source": [
    "# выводим информацию по объединенному dataset\n",
    "display(data.info())\n",
    "display(data.describe())\n",
    "display(data.describe(include=object))"
   ]
  },
  {
   "cell_type": "markdown",
   "metadata": {},
   "source": [
    "Комментарии:\n",
    "\n",
    "- Объединенный dataset имеет размерность 515738 строк, 18 признаков;\n",
    "- Признаки имеют тип данных: float64(4), int64(5), object(8), category(1)."
   ]
  },
  {
   "cell_type": "markdown",
   "metadata": {},
   "source": [
    "## 2. Очистка данных."
   ]
  },
  {
   "cell_type": "code",
   "execution_count": 189,
   "metadata": {},
   "outputs": [
    {
     "data": {
      "text/plain": [
       "lat    0.633655\n",
       "lng    0.633655\n",
       "dtype: float64"
      ]
     },
     "metadata": {},
     "output_type": "display_data"
    },
    {
     "data": {
      "text/plain": [
       "<Axes: >"
      ]
     },
     "execution_count": 189,
     "metadata": {},
     "output_type": "execute_result"
    },
    {
     "data": {
      "image/png": "[encoded data removed]",
      "text/plain": [
       "<Figure size 1000x1500 with 2 Axes>"
      ]
     },
     "metadata": {},
     "output_type": "display_data"
    }
   ],
   "source": [
    "# формируем и выводим информацию о наличие пропусков в признаках (%) \n",
    "cols_null_percent = data.isnull().mean() * 100 # все признаки с  пропусками в (%) \n",
    "cols_with_null = cols_null_percent[cols_null_percent > 0].sort_values(ascending=False) # признаки с наличием пропусков (%)\n",
    "display(cols_with_null)\n",
    "# display(cols_null_percent)\n",
    "sns.heatmap(data.isnull()) # наглядная карта пропусков. Пропусков немного."
   ]
  },
  {
   "cell_type": "code",
   "execution_count": 190,
   "metadata": {},
   "outputs": [
    {
     "data": {
      "text/plain": [
       "lat    3268\n",
       "lng    3268\n",
       "dtype: int64"
      ]
     },
     "metadata": {},
     "output_type": "display_data"
    }
   ],
   "source": [
    "# подсчитаем к-во пропусков о в признаках \n",
    "cols_null = data.isna().sum() # где пропуск там True=1.\n",
    "display(cols_null[cols_null > 0])"
   ]
  },
  {
   "cell_type": "code",
   "execution_count": 191,
   "metadata": {},
   "outputs": [
    {
     "data": {
      "text/plain": [
       "hotel_name\n",
       "Fleming s Selection Hotel Wien City                 658\n",
       "Hotel City Central                                  563\n",
       "Hotel Atlanta                                       389\n",
       "Maison Albar Hotel Paris Op ra Diamond              290\n",
       "Hotel Daniel Vienna                                 245\n",
       "Hotel Pension Baron am Schottentor                  223\n",
       "Austria Trend Hotel Schloss Wilhelminenberg Wien    194\n",
       "Derag Livinghotel Kaiser Franz Joseph Vienna        147\n",
       "NH Collection Barcelona Podium                      146\n",
       "City Hotel Deutschmeister                            93\n",
       "Hotel Park Villa                                     61\n",
       "Cordial Theaterhotel Wien                            57\n",
       "Holiday Inn Paris Montmartre                         55\n",
       "Roomz Vienna                                         49\n",
       "Mercure Paris Gare Montparnasse                      37\n",
       "Renaissance Barcelona Hotel                          33\n",
       "Hotel Advance                                        28\n",
       "Name: count, dtype: int64"
      ]
     },
     "metadata": {},
     "output_type": "display_data"
    },
    {
     "data": {
      "text/plain": [
       "'Всего 17- таких уникальных записей с пропусками'"
      ]
     },
     "metadata": {},
     "output_type": "display_data"
    }
   ],
   "source": [
    "# информация о уникальных значений с пропусками\n",
    "hotels_isnull = data[data['lat'].isnull() | data['lng'].isnull()] # записи с пропусками где либо\n",
    "list_null = hotels_isnull[['hotel_name', 'hotel_address']] # выбираем датафрейм с двумя колонками у таких записей\n",
    "list_isnull = hotels_isnull['hotel_name'].value_counts()\n",
    "display(list_isnull)\n",
    "display(f'Всего {len(list_isnull)}- таких уникальных записей с пропусками')"
   ]
  },
  {
   "cell_type": "markdown",
   "metadata": {},
   "source": [
    "Комментарии:\n",
    "\n",
    "- Пропуски содержатся в 2х признаках \"lat\" и \"lng\", количество записей составляет 3268 в каждом признаке или 0,63%;\n",
    "- Количество уникальных записей - 17, по которым не заполнена информация по широте и долготе;"
   ]
  },
  {
   "cell_type": "code",
   "execution_count": 192,
   "metadata": {},
   "outputs": [],
   "source": [
    "# формируем словарь с данными по широте\n",
    "dict_lat = {'Austria Trend Hotel Schloss Wilhelminenberg Wien': '48.219547925972456', \n",
    "                'Holiday Inn Paris Montmartre': '48.889064368690235',\n",
    "                'Fleming s Selection Hotel Wien City': '48.209427104128665',\n",
    "                'Hotel Atlanta': '48.2209723965124',\n",
    "                'Maison Albar Hotel Paris Op ra Diamond': '48.87543722920124',\n",
    "                'Derag Livinghotel Kaiser Franz Joseph Vienna': '48.24608017805536',\n",
    "                'Hotel City Central': '48.214201786014854',\n",
    "                'NH Collection Barcelona Podium': '41.39176529029773',\n",
    "                'City Hotel Deutschmeister': '48.22103057609981',\n",
    "                'Hotel Daniel Vienna': '48.18897212994251',\n",
    "                'Roomz Vienna': '48.22382961585223',\n",
    "                'Hotel Pension Baron am Schottentor': '48.21692824899107',\n",
    "                'Mercure Paris Gare Montparnasse': '48.84010021974514',\n",
    "                'Hotel Park Villa': '48.23759024291264',\n",
    "                'Hotel Advance': '41.38327316014033',\n",
    "                'Renaissance Barcelona Hotel': '41.394162363243964',\n",
    "                'Cordial Theaterhotel Wien': '48.20969901650749'}"
   ]
  },
  {
   "cell_type": "code",
   "execution_count": 193,
   "metadata": {},
   "outputs": [],
   "source": [
    "# формируем словарь с данными по долготе\n",
    "dict_lng = {'Austria Trend Hotel Schloss Wilhelminenberg Wien': '16.285565274761424', \n",
    "                'Holiday Inn Paris Montmartre': '2.333206641604505',\n",
    "                'Fleming s Selection Hotel Wien City': '16.353540496647103',\n",
    "                'Hotel Atlanta': '16.356650516337886',\n",
    "                'Maison Albar Hotel Paris Op ra Diamond': '2.3234027262612256',\n",
    "                'Derag Livinghotel Kaiser Franz Joseph Vienna': '16.34202545691955',\n",
    "                'Hotel City Central': '16.379923233140797',\n",
    "                'NH Collection Barcelona Podium': '2.1783660658934747',\n",
    "                'City Hotel Deutschmeister': '16.366622226233126',\n",
    "                'Hotel Daniel Vienna': '16.3838329415743',\n",
    "                'Roomz Vienna': '16.393969343883455',\n",
    "                'Hotel Pension Baron am Schottentor': '16.360055901096636',\n",
    "                'Mercure Paris Gare Montparnasse': '2.3231778953046462',\n",
    "                'Hotel Park Villa': '16.34703938556462',\n",
    "                'Hotel Advance': '2.162964217594162',\n",
    "                'Renaissance Barcelona Hotel': '2.1748749075722924',\n",
    "                'Cordial Theaterhotel Wien': '16.351495483903957'}"
   ]
  },
  {
   "cell_type": "code",
   "execution_count": 194,
   "metadata": {},
   "outputs": [],
   "source": [
    "# формируем код и производим заполнение данных в dataframe\n",
    "data['lat'] = data.apply(lambda x: dict_lat.get(x['hotel_name']) if pd.isnull(x['lat']) else x['lat'], axis=1).astype('float64') # вводим данные по широте и устанавливаем тип float64\n",
    "data['lng'] = data.apply(lambda x: dict_lng.get(x['hotel_name']) if pd.isnull(x['lng']) else x['lng'], axis=1).astype('float64') # вводим данные по долготе и устанавливаем тип float64"
   ]
  },
  {
   "cell_type": "code",
   "execution_count": 195,
   "metadata": {},
   "outputs": [
    {
     "name": "stdout",
     "output_type": "stream",
     "text": [
      "<class 'pandas.core.frame.DataFrame'>\n",
      "RangeIndex: 515738 entries, 0 to 515737\n",
      "Data columns (total 18 columns):\n",
      " #   Column                                      Non-Null Count   Dtype   \n",
      "---  ------                                      --------------   -----   \n",
      " 0   hotel_address                               515738 non-null  object  \n",
      " 1   additional_number_of_scoring                515738 non-null  int64   \n",
      " 2   review_date                                 515738 non-null  object  \n",
      " 3   average_score                               515738 non-null  float64 \n",
      " 4   hotel_name                                  515738 non-null  object  \n",
      " 5   reviewer_nationality                        515738 non-null  object  \n",
      " 6   negative_review                             515738 non-null  object  \n",
      " 7   review_total_negative_word_counts           515738 non-null  int64   \n",
      " 8   total_number_of_reviews                     515738 non-null  int64   \n",
      " 9   positive_review                             515738 non-null  object  \n",
      " 10  review_total_positive_word_counts           515738 non-null  int64   \n",
      " 11  total_number_of_reviews_reviewer_has_given  515738 non-null  int64   \n",
      " 12  reviewer_score                              515738 non-null  float64 \n",
      " 13  tags                                        515738 non-null  object  \n",
      " 14  days_since_review                           515738 non-null  object  \n",
      " 15  lat                                         515738 non-null  float64 \n",
      " 16  lng                                         515738 non-null  float64 \n",
      " 17  sample                                      515738 non-null  category\n",
      "dtypes: category(1), float64(4), int64(5), object(8)\n",
      "memory usage: 67.4+ MB\n"
     ]
    },
    {
     "data": {
      "text/plain": [
       "None"
      ]
     },
     "metadata": {},
     "output_type": "display_data"
    },
    {
     "data": {
      "text/plain": [
       "'Всего 0- таких записей с пропусками'"
      ]
     },
     "metadata": {},
     "output_type": "display_data"
    }
   ],
   "source": [
    "#cols_null = hotels.isna().sum() # где пропуск там True=1.\n",
    "display(data.info())\n",
    "hotels_isnull = data[data['lat'].isnull() | data['lng'].isnull()] # записи с пропусками где либо\n",
    "list_null = hotels_isnull[['hotel_name', 'hotel_address']] # выбираем датафрейм с двумя колонками у таких записей\n",
    "list_isnull = hotels_isnull['hotel_name'].value_counts()\n",
    "#display(list_isnull)\n",
    "display(f'Всего {len(list_isnull)}- таких записей с пропусками')"
   ]
  },
  {
   "cell_type": "markdown",
   "metadata": {},
   "source": [
    "Комментарии:\n",
    "\n",
    "- Пропусков нет."
   ]
  },
  {
   "cell_type": "markdown",
   "metadata": {},
   "source": [
    "### 2.1 Обработка дубликатов."
   ]
  },
  {
   "cell_type": "code",
   "execution_count": 196,
   "metadata": {},
   "outputs": [
    {
     "data": {
      "text/plain": [
       "'Количество дубликатов в dataset составляет 336 шт.'"
      ]
     },
     "metadata": {},
     "output_type": "display_data"
    }
   ],
   "source": [
    "# формируем и выводим информацию о наличие дубликатов\n",
    "hotels_dublicate = data[data.duplicated()]\n",
    "display(f'Количество дубликатов в dataset составляет {hotels_dublicate.shape[0]} шт.')"
   ]
  },
  {
   "cell_type": "code",
   "execution_count": 197,
   "metadata": {},
   "outputs": [
    {
     "data": {
      "text/plain": [
       "hotel_name\n",
       "H tel Concorde Montparnasse               235\n",
       "H tel Baume                                50\n",
       "Hotel Le Sainte Beuve                      35\n",
       "Villa Eugenie                               9\n",
       "Pertschy Palais Hotel                       1\n",
       "The Bloomsbury Hotel                        1\n",
       "Hotel Da Vinci                              1\n",
       "Mercure Paris Centre Tour Eiffel            1\n",
       "Park Plaza Vondelpark Amsterdam             1\n",
       "Fletcher Hotel Amsterdam                    1\n",
       "Copthorne Tara Hotel London Kensington      1\n",
       "Name: count, dtype: int64"
      ]
     },
     "execution_count": 197,
     "metadata": {},
     "output_type": "execute_result"
    }
   ],
   "source": [
    "# Названия Отелей у которых есть дубликаты и как много дубликатов\n",
    "hotels_dublicate['hotel_name'].value_counts()"
   ]
  },
  {
   "cell_type": "code",
   "execution_count": 198,
   "metadata": {},
   "outputs": [
    {
     "data": {
      "text/plain": [
       "'Количество дубликатов по отелю \"H tel Concorde Montparnasse\" составляет 33.96% от к-ва записей по этому отелю.'"
      ]
     },
     "metadata": {},
     "output_type": "display_data"
    },
    {
     "data": {
      "text/plain": [
       "'Количество дубликатов по отелю \"H tel Baume\" составляет 28.41% от к-ва записей по этому отелю.'"
      ]
     },
     "metadata": {},
     "output_type": "display_data"
    },
    {
     "data": {
      "text/plain": [
       "'Количество дубликатов по отелю \"Hotel Le Sainte Beuve\" составляет 35.71% от к-ва записей по этому отелю.'"
      ]
     },
     "metadata": {},
     "output_type": "display_data"
    },
    {
     "data": {
      "text/plain": [
       "'Количество дубликатов по отелю \"Villa Eugenie\" составляет 14.52% от к-ва записей по этому отелю.'"
      ]
     },
     "metadata": {},
     "output_type": "display_data"
    }
   ],
   "source": [
    "# информация о % дубликатов к общему количеству записей для отелей первых 4 позиций.\n",
    "index_1 = (hotels_dublicate[hotels_dublicate['hotel_name'] == 'H tel Concorde Montparnasse'].shape[0] / data[data['hotel_name'] == 'H tel Concorde Montparnasse'].shape[0])*100\n",
    "display(f'Количество дубликатов по отелю \"H tel Concorde Montparnasse\" составляет {round(index_1, 2)}% от к-ва записей по этому отелю.')\n",
    "\n",
    "index_2 = (hotels_dublicate[hotels_dublicate['hotel_name'] == 'H tel Baume'].shape[0] / data[data['hotel_name'] == 'H tel Baume'].shape[0])*100\n",
    "display(f'Количество дубликатов по отелю \"H tel Baume\" составляет {round(index_2, 2)}% от к-ва записей по этому отелю.')\n",
    "\n",
    "index_3 = (hotels_dublicate[hotels_dublicate['hotel_name'] == 'Hotel Le Sainte Beuve'].shape[0] / data[data['hotel_name'] == 'Hotel Le Sainte Beuve'].shape[0])*100\n",
    "display(f'Количество дубликатов по отелю \"Hotel Le Sainte Beuve\" составляет {round(index_3, 2)}% от к-ва записей по этому отелю.')\n",
    "\n",
    "index_4 = (hotels_dublicate[hotels_dublicate['hotel_name'] == 'Villa Eugenie'].shape[0] / data[data['hotel_name'] == 'Villa Eugenie'].shape[0])*100\n",
    "display(f'Количество дубликатов по отелю \"Villa Eugenie\" составляет {round(index_4, 2)}% от к-ва записей по этому отелю.')"
   ]
  },
  {
   "cell_type": "code",
   "execution_count": 199,
   "metadata": {},
   "outputs": [
    {
     "data": {
      "text/plain": [
       "'Количество дубликатов в выборке train: 307.'"
      ]
     },
     "metadata": {},
     "output_type": "display_data"
    },
    {
     "data": {
      "text/plain": [
       "'Количество дубликатов в выборке test: 29.'"
      ]
     },
     "metadata": {},
     "output_type": "display_data"
    }
   ],
   "source": [
    "# формируем и выводим информацию о количестве дубликатов в выборке train и test\n",
    "hotels_dublicate_train = data[data['sample'] == 1]\n",
    "hotels_dublicate_test = data[data['sample'] == 0]\n",
    "\n",
    "display(f'Количество дубликатов в выборке train: {hotels_dublicate_train[hotels_dublicate_train.duplicated()].shape[0]}.')\n",
    "display(f'Количество дубликатов в выборке test: {hotels_dublicate_test[hotels_dublicate_test.duplicated()].shape[0]}.')"
   ]
  },
  {
   "cell_type": "markdown",
   "metadata": {},
   "source": [
    "Комментарии:\n",
    "\n",
    "- Общее количество дубликатов в dataset составляет 336 записей или 0,07% от общего количества;\n",
    "- Есть четыре отеля по которым дубликаты составляют от 14.52% до 35.71% от записей по этим же отелям, возможно, это програмные или организованные методы создания оценок- манипуляции;\n",
    "- Удалим дубликаты, только из записей из выборки train (признак 'sample' = 1).\n",
    "- Выявлены ошибки в имени 2х отелей, исправим их."
   ]
  },
  {
   "cell_type": "code",
   "execution_count": 200,
   "metadata": {},
   "outputs": [],
   "source": [
    "# исправим ошибки в названиях двух отелей.\n",
    "replace_dict = {'H tel Concorde Montparnasse':'Hotel Concorde Montparnasse', 'H tel Baume':'Hotel Baume'}\n",
    "data['hotel_name'] = data['hotel_name'].replace(replace_dict)"
   ]
  },
  {
   "cell_type": "code",
   "execution_count": 201,
   "metadata": {},
   "outputs": [],
   "source": [
    "# делим dataframe на 2 выборки и удаляем дубликаты только в train, т.к тестовую выборку нельзя уменьшать,\n",
    "# тогда не будет соответствия по к-ву записей submission.\n",
    "#dublicate_tr = hotels.query('sample == 1').drop_duplicates()\n",
    "dublicate_ts = data[data['sample'] == 0]\n",
    "dublicate_tr = data[data['sample'] == 1].drop_duplicates()"
   ]
  },
  {
   "cell_type": "code",
   "execution_count": 202,
   "metadata": {},
   "outputs": [],
   "source": [
    "# объединяем dataframes, опять\n",
    "data = pd.concat([dublicate_ts, dublicate_tr], ignore_index=True)"
   ]
  },
  {
   "cell_type": "code",
   "execution_count": 203,
   "metadata": {},
   "outputs": [
    {
     "name": "stdout",
     "output_type": "stream",
     "text": [
      "<class 'pandas.core.frame.DataFrame'>\n",
      "RangeIndex: 515431 entries, 0 to 515430\n",
      "Data columns (total 18 columns):\n",
      " #   Column                                      Non-Null Count   Dtype   \n",
      "---  ------                                      --------------   -----   \n",
      " 0   hotel_address                               515431 non-null  object  \n",
      " 1   additional_number_of_scoring                515431 non-null  int64   \n",
      " 2   review_date                                 515431 non-null  object  \n",
      " 3   average_score                               515431 non-null  float64 \n",
      " 4   hotel_name                                  515431 non-null  object  \n",
      " 5   reviewer_nationality                        515431 non-null  object  \n",
      " 6   negative_review                             515431 non-null  object  \n",
      " 7   review_total_negative_word_counts           515431 non-null  int64   \n",
      " 8   total_number_of_reviews                     515431 non-null  int64   \n",
      " 9   positive_review                             515431 non-null  object  \n",
      " 10  review_total_positive_word_counts           515431 non-null  int64   \n",
      " 11  total_number_of_reviews_reviewer_has_given  515431 non-null  int64   \n",
      " 12  reviewer_score                              515431 non-null  float64 \n",
      " 13  tags                                        515431 non-null  object  \n",
      " 14  days_since_review                           515431 non-null  object  \n",
      " 15  lat                                         515431 non-null  float64 \n",
      " 16  lng                                         515431 non-null  float64 \n",
      " 17  sample                                      515431 non-null  category\n",
      "dtypes: category(1), float64(4), int64(5), object(8)\n",
      "memory usage: 67.3+ MB\n"
     ]
    }
   ],
   "source": [
    "data.info()"
   ]
  },
  {
   "cell_type": "markdown",
   "metadata": {},
   "source": [
    "Датафрейм уменьшился на 307 строк, к-во дубликатов в train выборке."
   ]
  },
  {
   "cell_type": "markdown",
   "metadata": {},
   "source": [
    "### 2.2 Дата, когда посетитель оставил отзыв."
   ]
  },
  {
   "cell_type": "code",
   "execution_count": 204,
   "metadata": {},
   "outputs": [],
   "source": [
    "data['review_date'] = pd.to_datetime(data['review_date'])\n",
    "\n",
    "data['review_year'] = data['review_date'].dt.year\n",
    "data['review_month'] = data['review_date'].dt.month\n",
    "data['review_day'] = data['review_date'].dt.day\n",
    "data['review_dayofweek'] = data['review_date'].dt.dayofweek\n",
    "data['review_week'] = data['review_date'].dt.isocalendar().week.astype('int')"
   ]
  },
  {
   "cell_type": "code",
   "execution_count": 205,
   "metadata": {},
   "outputs": [
    {
     "data": {
      "text/html": [
       "<div>\n",
       "<style scoped>\n",
       "    .dataframe tbody tr th:only-of-type {\n",
       "        vertical-align: middle;\n",
       "    }\n",
       "\n",
       "    .dataframe tbody tr th {\n",
       "        vertical-align: top;\n",
       "    }\n",
       "\n",
       "    .dataframe thead th {\n",
       "        text-align: right;\n",
       "    }\n",
       "</style>\n",
       "<table border=\"1\" class=\"dataframe\">\n",
       "  <thead>\n",
       "    <tr style=\"text-align: right;\">\n",
       "      <th></th>\n",
       "      <th>hotel_address</th>\n",
       "      <th>additional_number_of_scoring</th>\n",
       "      <th>review_date</th>\n",
       "      <th>average_score</th>\n",
       "      <th>hotel_name</th>\n",
       "      <th>reviewer_nationality</th>\n",
       "      <th>negative_review</th>\n",
       "      <th>review_total_negative_word_counts</th>\n",
       "      <th>total_number_of_reviews</th>\n",
       "      <th>positive_review</th>\n",
       "      <th>...</th>\n",
       "      <th>tags</th>\n",
       "      <th>days_since_review</th>\n",
       "      <th>lat</th>\n",
       "      <th>lng</th>\n",
       "      <th>sample</th>\n",
       "      <th>review_year</th>\n",
       "      <th>review_month</th>\n",
       "      <th>review_day</th>\n",
       "      <th>review_dayofweek</th>\n",
       "      <th>review_week</th>\n",
       "    </tr>\n",
       "  </thead>\n",
       "  <tbody>\n",
       "    <tr>\n",
       "      <th>0</th>\n",
       "      <td>Via Senigallia 6 20161 Milan Italy</td>\n",
       "      <td>904</td>\n",
       "      <td>2017-07-21</td>\n",
       "      <td>8.1</td>\n",
       "      <td>Hotel Da Vinci</td>\n",
       "      <td>United Kingdom</td>\n",
       "      <td>Would have appreciated a shop in the hotel th...</td>\n",
       "      <td>52</td>\n",
       "      <td>16670</td>\n",
       "      <td>Hotel was great clean friendly staff free bre...</td>\n",
       "      <td>...</td>\n",
       "      <td>[' Leisure trip ', ' Couple ', ' Double Room '...</td>\n",
       "      <td>13 days</td>\n",
       "      <td>45.533137</td>\n",
       "      <td>9.171102</td>\n",
       "      <td>0</td>\n",
       "      <td>2017</td>\n",
       "      <td>7</td>\n",
       "      <td>21</td>\n",
       "      <td>4</td>\n",
       "      <td>29</td>\n",
       "    </tr>\n",
       "    <tr>\n",
       "      <th>1</th>\n",
       "      <td>Arlandaweg 10 Westpoort 1043 EW Amsterdam Neth...</td>\n",
       "      <td>612</td>\n",
       "      <td>2016-12-12</td>\n",
       "      <td>8.6</td>\n",
       "      <td>Urban Lodge Hotel</td>\n",
       "      <td>Belgium</td>\n",
       "      <td>No tissue paper box was present at the room</td>\n",
       "      <td>10</td>\n",
       "      <td>5018</td>\n",
       "      <td>No Positive</td>\n",
       "      <td>...</td>\n",
       "      <td>[' Leisure trip ', ' Group ', ' Triple Room ',...</td>\n",
       "      <td>234 day</td>\n",
       "      <td>52.385649</td>\n",
       "      <td>4.834443</td>\n",
       "      <td>0</td>\n",
       "      <td>2016</td>\n",
       "      <td>12</td>\n",
       "      <td>12</td>\n",
       "      <td>0</td>\n",
       "      <td>50</td>\n",
       "    </tr>\n",
       "    <tr>\n",
       "      <th>2</th>\n",
       "      <td>Mallorca 251 Eixample 08008 Barcelona Spain</td>\n",
       "      <td>46</td>\n",
       "      <td>2015-11-26</td>\n",
       "      <td>8.3</td>\n",
       "      <td>Alexandra Barcelona A DoubleTree by Hilton</td>\n",
       "      <td>Sweden</td>\n",
       "      <td>Pillows</td>\n",
       "      <td>3</td>\n",
       "      <td>351</td>\n",
       "      <td>Nice welcoming and service</td>\n",
       "      <td>...</td>\n",
       "      <td>[' Business trip ', ' Solo traveler ', ' Twin ...</td>\n",
       "      <td>616 day</td>\n",
       "      <td>41.393192</td>\n",
       "      <td>2.161520</td>\n",
       "      <td>0</td>\n",
       "      <td>2015</td>\n",
       "      <td>11</td>\n",
       "      <td>26</td>\n",
       "      <td>3</td>\n",
       "      <td>48</td>\n",
       "    </tr>\n",
       "    <tr>\n",
       "      <th>3</th>\n",
       "      <td>Piazza Della Repubblica 17 Central Station 201...</td>\n",
       "      <td>241</td>\n",
       "      <td>2015-10-17</td>\n",
       "      <td>9.1</td>\n",
       "      <td>Hotel Principe Di Savoia</td>\n",
       "      <td>United States of America</td>\n",
       "      <td>No Negative</td>\n",
       "      <td>0</td>\n",
       "      <td>1543</td>\n",
       "      <td>Everything including the nice upgrade The Hot...</td>\n",
       "      <td>...</td>\n",
       "      <td>[' Leisure trip ', ' Couple ', ' Ambassador Ju...</td>\n",
       "      <td>656 day</td>\n",
       "      <td>45.479888</td>\n",
       "      <td>9.196298</td>\n",
       "      <td>0</td>\n",
       "      <td>2015</td>\n",
       "      <td>10</td>\n",
       "      <td>17</td>\n",
       "      <td>5</td>\n",
       "      <td>42</td>\n",
       "    </tr>\n",
       "    <tr>\n",
       "      <th>4</th>\n",
       "      <td>Singel 303 309 Amsterdam City Center 1012 WJ A...</td>\n",
       "      <td>834</td>\n",
       "      <td>2016-05-16</td>\n",
       "      <td>9.1</td>\n",
       "      <td>Hotel Esther a</td>\n",
       "      <td>United Kingdom</td>\n",
       "      <td>No Negative</td>\n",
       "      <td>0</td>\n",
       "      <td>4687</td>\n",
       "      <td>Lovely hotel v welcoming staff</td>\n",
       "      <td>...</td>\n",
       "      <td>[' Business trip ', ' Solo traveler ', ' Class...</td>\n",
       "      <td>444 day</td>\n",
       "      <td>52.370545</td>\n",
       "      <td>4.888644</td>\n",
       "      <td>0</td>\n",
       "      <td>2016</td>\n",
       "      <td>5</td>\n",
       "      <td>16</td>\n",
       "      <td>0</td>\n",
       "      <td>20</td>\n",
       "    </tr>\n",
       "  </tbody>\n",
       "</table>\n",
       "<p>5 rows × 23 columns</p>\n",
       "</div>"
      ],
      "text/plain": [
       "                                       hotel_address  \\\n",
       "0                 Via Senigallia 6 20161 Milan Italy   \n",
       "1  Arlandaweg 10 Westpoort 1043 EW Amsterdam Neth...   \n",
       "2        Mallorca 251 Eixample 08008 Barcelona Spain   \n",
       "3  Piazza Della Repubblica 17 Central Station 201...   \n",
       "4  Singel 303 309 Amsterdam City Center 1012 WJ A...   \n",
       "\n",
       "   additional_number_of_scoring review_date  average_score  \\\n",
       "0                           904  2017-07-21            8.1   \n",
       "1                           612  2016-12-12            8.6   \n",
       "2                            46  2015-11-26            8.3   \n",
       "3                           241  2015-10-17            9.1   \n",
       "4                           834  2016-05-16            9.1   \n",
       "\n",
       "                                   hotel_name        reviewer_nationality  \\\n",
       "0                              Hotel Da Vinci             United Kingdom    \n",
       "1                           Urban Lodge Hotel                    Belgium    \n",
       "2  Alexandra Barcelona A DoubleTree by Hilton                     Sweden    \n",
       "3                    Hotel Principe Di Savoia   United States of America    \n",
       "4                              Hotel Esther a             United Kingdom    \n",
       "\n",
       "                                     negative_review  \\\n",
       "0   Would have appreciated a shop in the hotel th...   \n",
       "1        No tissue paper box was present at the room   \n",
       "2                                           Pillows    \n",
       "3                                        No Negative   \n",
       "4                                        No Negative   \n",
       "\n",
       "   review_total_negative_word_counts  total_number_of_reviews  \\\n",
       "0                                 52                    16670   \n",
       "1                                 10                     5018   \n",
       "2                                  3                      351   \n",
       "3                                  0                     1543   \n",
       "4                                  0                     4687   \n",
       "\n",
       "                                     positive_review  ...  \\\n",
       "0   Hotel was great clean friendly staff free bre...  ...   \n",
       "1                                        No Positive  ...   \n",
       "2                         Nice welcoming and service  ...   \n",
       "3   Everything including the nice upgrade The Hot...  ...   \n",
       "4                    Lovely hotel v welcoming staff   ...   \n",
       "\n",
       "                                                tags  days_since_review  \\\n",
       "0  [' Leisure trip ', ' Couple ', ' Double Room '...            13 days   \n",
       "1  [' Leisure trip ', ' Group ', ' Triple Room ',...            234 day   \n",
       "2  [' Business trip ', ' Solo traveler ', ' Twin ...            616 day   \n",
       "3  [' Leisure trip ', ' Couple ', ' Ambassador Ju...            656 day   \n",
       "4  [' Business trip ', ' Solo traveler ', ' Class...            444 day   \n",
       "\n",
       "         lat       lng sample  review_year  review_month review_day  \\\n",
       "0  45.533137  9.171102      0         2017             7         21   \n",
       "1  52.385649  4.834443      0         2016            12         12   \n",
       "2  41.393192  2.161520      0         2015            11         26   \n",
       "3  45.479888  9.196298      0         2015            10         17   \n",
       "4  52.370545  4.888644      0         2016             5         16   \n",
       "\n",
       "   review_dayofweek  review_week  \n",
       "0                 4           29  \n",
       "1                 0           50  \n",
       "2                 3           48  \n",
       "3                 5           42  \n",
       "4                 0           20  \n",
       "\n",
       "[5 rows x 23 columns]"
      ]
     },
     "execution_count": 205,
     "metadata": {},
     "output_type": "execute_result"
    }
   ],
   "source": [
    "data.head()"
   ]
  },
  {
   "cell_type": "markdown",
   "metadata": {},
   "source": [
    "Сортировка отзывов:"
   ]
  },
  {
   "cell_type": "code",
   "execution_count": 206,
   "metadata": {},
   "outputs": [
    {
     "name": "stderr",
     "output_type": "stream",
     "text": [
      "[nltk_data] Downloading package vader_lexicon to\n",
      "[nltk_data]     C:\\Users\\USER\\AppData\\Roaming\\nltk_data...\n",
      "[nltk_data]   Package vader_lexicon is already up-to-date!\n"
     ]
    }
   ],
   "source": [
    "import nltk\n",
    "from nltk.sentiment.vader import SentimentIntensityAnalyzer\n",
    "import time\n",
    "nltk.downloader.download('vader_lexicon')\n",
    "\n",
    "sent_analyzer = SentimentIntensityAnalyzer()"
   ]
  },
  {
   "cell_type": "code",
   "execution_count": 207,
   "metadata": {},
   "outputs": [
    {
     "name": "stdout",
     "output_type": "stream",
     "text": [
      "Словарь оценок слова \"nothing\" до преобразований:\n",
      "{'neg': 0.0, 'neu': 1.0, 'pos': 0.0, 'compound': 0.0} \n",
      "\n",
      " - после преобразований (для негативного контекста):\n",
      "{'neg': 0.0, 'neu': 0.0, 'pos': 1.0, 'compound': 0.9325}\n",
      " - после преобразований (для позитивного контекста):\n",
      "{'neg': 1.0, 'neu': 0.0, 'pos': 0.0, 'compound': -0.9325}\n",
      "\n",
      "Словарь оценок фразы \"No Negative\":\n",
      "{'neg': 1.0, 'neu': 0.0, 'pos': 0.0, 'compound': -0.7096}\n",
      "\n",
      "Словарь оценок фразы \"Positive\":\n",
      "{'neg': 0.0, 'neu': 0.0, 'pos': 1.0, 'compound': 0.5574}\n"
     ]
    }
   ],
   "source": [
    "# Создаём объекты SentimentIntensityAnalyzer\n",
    "positive_analyzer = SentimentIntensityAnalyzer()\n",
    "negative_analyzer = SentimentIntensityAnalyzer()\n",
    "\n",
    "# Посмотрим, как изменится характеристика слова 'nothing'\n",
    "example_word = 'nothing'\n",
    "print(f'Словарь оценок слова \"{example_word}\" до преобразований:')\n",
    "print(negative_analyzer.polarity_scores(example_word), '\\n')\n",
    "\n",
    "# Добавим контекст\n",
    "negative_words = {'small': -1, 'nothing': 10}\n",
    "positive_words = {'nothing': -10, 'everything': 10}\n",
    "\n",
    "negative_analyzer.lexicon.update(negative_words)\n",
    "positive_analyzer.lexicon.update(positive_words)\n",
    "\n",
    "print(f' - после преобразований (для негативного контекста):')\n",
    "print(negative_analyzer.polarity_scores(example_word))\n",
    "print(f' - после преобразований (для позитивного контекста):')\n",
    "print(positive_analyzer.polarity_scores(example_word))\n",
    "\n",
    "# Пример с фразами \"No Negative\" и \"Positive\"\n",
    "phrases = ['No Negative', 'Positive']\n",
    "for phrase in phrases:\n",
    "    print(f'\\nСловарь оценок фразы \"{phrase}\":')\n",
    "    print(negative_analyzer.polarity_scores(phrase))\n",
    "\n",
    "# Обновление меток отсутствия частей отзыва\n",
    "# Определяем словарь замен\n",
    "replacements = {\n",
    "    'No Negative': 'Positive',\n",
    "    'N A': 'Positive',\n",
    "    'All good': 'Positive',\n",
    "    'No complaints': 'Positive',\n",
    "    'Nothing to dislike': 'Positive',\n",
    "    'No Positive': 'Negative'\n",
    "}\n",
    "\n",
    "# Функция для замены значений\n",
    "def replace_phrases(text, replacements):\n",
    "    for old, new in replacements.items():\n",
    "        text = text.replace(old, new)\n",
    "    return text\n",
    "\n",
    "# Применяем функцию к столбцам\n",
    "data['negative_review_word'] = data['negative_review'].apply(lambda x: replace_phrases(x, replacements))\n",
    "data['positive_review_word'] = data['positive_review'].apply(lambda x: replace_phrases(x, replacements))"
   ]
  },
  {
   "cell_type": "code",
   "execution_count": 208,
   "metadata": {},
   "outputs": [
    {
     "name": "stdout",
     "output_type": "stream",
     "text": [
      "CPU times: total: 12min 42s\n",
      "Wall time: 15min 1s\n"
     ]
    }
   ],
   "source": [
    "%%time\n",
    "\n",
    "# Функция для извлечения оценок\n",
    "def get_compliment(data, text_column, analyzer, prefix):\n",
    "    compliment = data[text_column].apply(analyzer.polarity_scores).apply(pd.Series)\n",
    "    compliment.columns = [f'{prefix}_{col}' for col in compliment.columns]\n",
    "    return compliment\n",
    "\n",
    "# Получаем оценки для негативных отзывов\n",
    "negative_compliment = get_compliment(data, 'negative_review_word', negative_analyzer, 'neg_review_compliment')\n",
    "# Получаем оценки для позитивных отзывов\n",
    "positive_compliment = get_compliment(data, 'positive_review_word', positive_analyzer, 'pos_review_compliment')\n",
    "\n",
    "# Объединяем результаты с исходным DataFrame\n",
    "data = pd.concat([data, negative_compliment, positive_compliment], axis=1)"
   ]
  },
  {
   "cell_type": "markdown",
   "metadata": {},
   "source": [
    "##### 1. Количество слов в положительном отзыве ('review_total_positive_word_counts'),\n",
    "##### 2. Количество слов в отрицательном отзыв ('review_total_negative_word_counts')."
   ]
  },
  {
   "cell_type": "code",
   "execution_count": 209,
   "metadata": {},
   "outputs": [],
   "source": [
    "words_negative = ['no negative', 'nothing', 'n a', 'none', '', 'all good', \n",
    "                       'nothing really', 'no complaints', 'nil', 'Nothing to dislike',\n",
    "                       'nothing at all', 'na', 'can t think of anything']\n",
    "words_positive = ['no positive', 'nothing']\n",
    "\n",
    "data['review_total_negative_word_counts'] = \\\n",
    "    data['negative_review'].apply(lambda x: 0 if x.strip().lower() in words_negative else len(x.split()))\n",
    "data['review_total_positive_word_counts'] = \\\n",
    "    data['positive_review'].apply(lambda x: 0 if x.strip().lower() in words_positive else len(x.split()))"
   ]
  },
  {
   "cell_type": "code",
   "execution_count": 210,
   "metadata": {},
   "outputs": [
    {
     "name": "stdout",
     "output_type": "stream",
     "text": [
      "<class 'pandas.core.frame.DataFrame'>\n",
      "RangeIndex: 515431 entries, 0 to 515430\n",
      "Data columns (total 33 columns):\n",
      " #   Column                                      Non-Null Count   Dtype         \n",
      "---  ------                                      --------------   -----         \n",
      " 0   hotel_address                               515431 non-null  object        \n",
      " 1   additional_number_of_scoring                515431 non-null  int64         \n",
      " 2   review_date                                 515431 non-null  datetime64[ns]\n",
      " 3   average_score                               515431 non-null  float64       \n",
      " 4   hotel_name                                  515431 non-null  object        \n",
      " 5   reviewer_nationality                        515431 non-null  object        \n",
      " 6   negative_review                             515431 non-null  object        \n",
      " 7   review_total_negative_word_counts           515431 non-null  int64         \n",
      " 8   total_number_of_reviews                     515431 non-null  int64         \n",
      " 9   positive_review                             515431 non-null  object        \n",
      " 10  review_total_positive_word_counts           515431 non-null  int64         \n",
      " 11  total_number_of_reviews_reviewer_has_given  515431 non-null  int64         \n",
      " 12  reviewer_score                              515431 non-null  float64       \n",
      " 13  tags                                        515431 non-null  object        \n",
      " 14  days_since_review                           515431 non-null  object        \n",
      " 15  lat                                         515431 non-null  float64       \n",
      " 16  lng                                         515431 non-null  float64       \n",
      " 17  sample                                      515431 non-null  category      \n",
      " 18  review_year                                 515431 non-null  int32         \n",
      " 19  review_month                                515431 non-null  int32         \n",
      " 20  review_day                                  515431 non-null  int32         \n",
      " 21  review_dayofweek                            515431 non-null  int32         \n",
      " 22  review_week                                 515431 non-null  int32         \n",
      " 23  negative_review_word                        515431 non-null  object        \n",
      " 24  positive_review_word                        515431 non-null  object        \n",
      " 25  neg_review_compliment_neg                   515431 non-null  float64       \n",
      " 26  neg_review_compliment_neu                   515431 non-null  float64       \n",
      " 27  neg_review_compliment_pos                   515431 non-null  float64       \n",
      " 28  neg_review_compliment_compound              515431 non-null  float64       \n",
      " 29  pos_review_compliment_neg                   515431 non-null  float64       \n",
      " 30  pos_review_compliment_neu                   515431 non-null  float64       \n",
      " 31  pos_review_compliment_pos                   515431 non-null  float64       \n",
      " 32  pos_review_compliment_compound              515431 non-null  float64       \n",
      "dtypes: category(1), datetime64[ns](1), float64(12), int32(5), int64(5), object(9)\n",
      "memory usage: 116.5+ MB\n"
     ]
    }
   ],
   "source": [
    "data.info()"
   ]
  },
  {
   "cell_type": "markdown",
   "metadata": {},
   "source": [
    "### 2.3.  Анализ тегов."
   ]
  },
  {
   "cell_type": "code",
   "execution_count": 211,
   "metadata": {},
   "outputs": [],
   "source": [
    "\n",
    "#import category_encoders as ce\n",
    "import numpy as np # linear algebra\n",
    "import pandas as pd # data processing, CSV file I/O (e.g. pd.read_csv)\n",
    "import re\n",
    "\n",
    "from collections import Counter\n",
    "#from geopy import distance\n",
    "#from geopy.geocoders import Nominatim\n",
    "from itertools import chain\n",
    "\n",
    "# Import visualization libraries\n",
    "import matplotlib.pyplot as plt\n",
    "import seaborn as sns \n",
    "%matplotlib inline\n",
    "\n",
    "# Import data set splitting function\n",
    "from sklearn import preprocessing\n",
    "from sklearn.model_selection import train_test_split\n",
    "\n",
    "# импортируем библиотеки для оценки тональности отзывов\n",
    "#import nltk\n",
    "#from nltk.sentiment.vader import SentimentIntensityAnalyzer\n",
    "import time\n",
    "#nltk.downloader.download('vader_lexicon')\n",
    "\n",
    "#импортируем библиотеки для кодирования признаков\n",
    "#import category_encoders as ce\n",
    "\n",
    "# Загружаем специальный удобный инструмент для разделения датасета:\n",
    "from sklearn.model_selection import train_test_split"
   ]
  },
  {
   "cell_type": "code",
   "execution_count": 212,
   "metadata": {},
   "outputs": [],
   "source": [
    "import re\n",
    "\n",
    "# количество тегов\n",
    "data['tag_count'] = data['tags'].apply(lambda x: len(re.findall(\"'[^\\'](.+?)[^\\']'\", x)))"
   ]
  },
  {
   "cell_type": "code",
   "execution_count": 213,
   "metadata": {},
   "outputs": [],
   "source": [
    "# количество тегов\n",
    "def get_tag(tag_string):\n",
    "    # Удаляем ненужные символы\n",
    "    tag_string = tag_string.strip(\"[]\").replace(\"' \", '').replace(\" '\", '')\n",
    "    tag_list = [tag.strip() for tag in tag_string.split(',')]\n",
    "\n",
    "    reviewer_type = {\n",
    "        'Solo traveler': 1,\n",
    "        'Couple': 2,\n",
    "        'Travelers with friends': 3,\n",
    "        'Family with young children': 4,\n",
    "        'Family with older children': 5,\n",
    "        'Group': 6\n",
    "    }\n",
    "\n",
    "    room_type = {\n",
    "        'without Window': 0,\n",
    "        'Guestroom': 1,\n",
    "        'Classic': 2,\n",
    "        'Single': 3,\n",
    "        'Standard': 4,\n",
    "        'Superior': 5,\n",
    "        'Comfort': 6,\n",
    "        'Club': 7,\n",
    "        'Suite': 8,\n",
    "        'Deluxe': 9,\n",
    "        'King': 10,\n",
    "        'Premier': 11\n",
    "    }\n",
    "\n",
    "    tag_from_mobile = 0\n",
    "    tag_with_pet = 0\n",
    "    tag_leisure_trip = 1\n",
    "    tag_reviewer_type = 0\n",
    "    tag_count_nights = 0\n",
    "    tag_view_room = 0\n",
    "    tag_room_type = -1\n",
    "\n",
    "    for tag in tag_list:\n",
    "        if tag == 'Submitted from a mobile device':\n",
    "            tag_from_mobile = 1\n",
    "        elif tag == 'With a pet':\n",
    "            tag_with_pet = 1\n",
    "        elif tag == 'Business trip':\n",
    "            tag_leisure_trip = 0\n",
    "        elif tag == 'Leisure trip':\n",
    "            tag_leisure_trip = 1\n",
    "        elif tag in reviewer_type:\n",
    "            tag_reviewer_type = reviewer_type[tag]\n",
    "        elif re.fullmatch(r'Stayed\\s\\d+\\snight\\w?', tag):\n",
    "            tag_count_nights = int(re.findall(r'\\d+', tag)[0])\n",
    "        elif 'View' in tag or 'Panoramic' in tag:\n",
    "            tag_view_room = 1\n",
    "        elif tag in room_type:\n",
    "            tag_room_type = room_type[tag]\n",
    "        elif 'Double' in tag or 'Twin' in tag:\n",
    "            tag_room_type = 12\n",
    "\n",
    "    if tag_room_type == -1:\n",
    "        tag_room_type = 13\n",
    "\n",
    "    return pd.Series([tag_from_mobile, tag_with_pet, tag_leisure_trip,\n",
    "                      tag_reviewer_type, tag_count_nights, tag_view_room,\n",
    "                      tag_room_type])\n",
    "\n",
    "# Применяем функцию и создаем новые столбцы\n",
    "data[['tag_from_mobile', 'tag_with_pet', 'tag_leisure_trip',\n",
    "        'tag_reviewer_type', 'tag_count_nights', 'tag_view_room',\n",
    "        'tag_room_type']] = data['tags'].apply(get_tag)"
   ]
  },
  {
   "cell_type": "code",
   "execution_count": 214,
   "metadata": {},
   "outputs": [
    {
     "data": {
      "text/html": [
       "<div>\n",
       "<style scoped>\n",
       "    .dataframe tbody tr th:only-of-type {\n",
       "        vertical-align: middle;\n",
       "    }\n",
       "\n",
       "    .dataframe tbody tr th {\n",
       "        vertical-align: top;\n",
       "    }\n",
       "\n",
       "    .dataframe thead th {\n",
       "        text-align: right;\n",
       "    }\n",
       "</style>\n",
       "<table border=\"1\" class=\"dataframe\">\n",
       "  <thead>\n",
       "    <tr style=\"text-align: right;\">\n",
       "      <th></th>\n",
       "      <th>hotel_address</th>\n",
       "      <th>additional_number_of_scoring</th>\n",
       "      <th>review_date</th>\n",
       "      <th>average_score</th>\n",
       "      <th>hotel_name</th>\n",
       "      <th>reviewer_nationality</th>\n",
       "      <th>negative_review</th>\n",
       "      <th>review_total_negative_word_counts</th>\n",
       "      <th>total_number_of_reviews</th>\n",
       "      <th>positive_review</th>\n",
       "      <th>...</th>\n",
       "      <th>pos_review_compliment_pos</th>\n",
       "      <th>pos_review_compliment_compound</th>\n",
       "      <th>tag_count</th>\n",
       "      <th>tag_from_mobile</th>\n",
       "      <th>tag_with_pet</th>\n",
       "      <th>tag_leisure_trip</th>\n",
       "      <th>tag_reviewer_type</th>\n",
       "      <th>tag_count_nights</th>\n",
       "      <th>tag_view_room</th>\n",
       "      <th>tag_room_type</th>\n",
       "    </tr>\n",
       "  </thead>\n",
       "  <tbody>\n",
       "    <tr>\n",
       "      <th>0</th>\n",
       "      <td>Via Senigallia 6 20161 Milan Italy</td>\n",
       "      <td>904</td>\n",
       "      <td>2017-07-21</td>\n",
       "      <td>8.1</td>\n",
       "      <td>Hotel Da Vinci</td>\n",
       "      <td>United Kingdom</td>\n",
       "      <td>Would have appreciated a shop in the hotel th...</td>\n",
       "      <td>50</td>\n",
       "      <td>16670</td>\n",
       "      <td>Hotel was great clean friendly staff free bre...</td>\n",
       "      <td>...</td>\n",
       "      <td>0.329</td>\n",
       "      <td>0.9615</td>\n",
       "      <td>4</td>\n",
       "      <td>0</td>\n",
       "      <td>0</td>\n",
       "      <td>1</td>\n",
       "      <td>2</td>\n",
       "      <td>2</td>\n",
       "      <td>0</td>\n",
       "      <td>12</td>\n",
       "    </tr>\n",
       "    <tr>\n",
       "      <th>1</th>\n",
       "      <td>Arlandaweg 10 Westpoort 1043 EW Amsterdam Neth...</td>\n",
       "      <td>612</td>\n",
       "      <td>2016-12-12</td>\n",
       "      <td>8.6</td>\n",
       "      <td>Urban Lodge Hotel</td>\n",
       "      <td>Belgium</td>\n",
       "      <td>No tissue paper box was present at the room</td>\n",
       "      <td>9</td>\n",
       "      <td>5018</td>\n",
       "      <td>No Positive</td>\n",
       "      <td>...</td>\n",
       "      <td>0.000</td>\n",
       "      <td>-0.5719</td>\n",
       "      <td>4</td>\n",
       "      <td>0</td>\n",
       "      <td>0</td>\n",
       "      <td>1</td>\n",
       "      <td>6</td>\n",
       "      <td>1</td>\n",
       "      <td>0</td>\n",
       "      <td>13</td>\n",
       "    </tr>\n",
       "    <tr>\n",
       "      <th>2</th>\n",
       "      <td>Mallorca 251 Eixample 08008 Barcelona Spain</td>\n",
       "      <td>46</td>\n",
       "      <td>2015-11-26</td>\n",
       "      <td>8.3</td>\n",
       "      <td>Alexandra Barcelona A DoubleTree by Hilton</td>\n",
       "      <td>Sweden</td>\n",
       "      <td>Pillows</td>\n",
       "      <td>1</td>\n",
       "      <td>351</td>\n",
       "      <td>Nice welcoming and service</td>\n",
       "      <td>...</td>\n",
       "      <td>0.740</td>\n",
       "      <td>0.6908</td>\n",
       "      <td>5</td>\n",
       "      <td>1</td>\n",
       "      <td>0</td>\n",
       "      <td>0</td>\n",
       "      <td>1</td>\n",
       "      <td>1</td>\n",
       "      <td>0</td>\n",
       "      <td>12</td>\n",
       "    </tr>\n",
       "    <tr>\n",
       "      <th>3</th>\n",
       "      <td>Piazza Della Repubblica 17 Central Station 201...</td>\n",
       "      <td>241</td>\n",
       "      <td>2015-10-17</td>\n",
       "      <td>9.1</td>\n",
       "      <td>Hotel Principe Di Savoia</td>\n",
       "      <td>United States of America</td>\n",
       "      <td>No Negative</td>\n",
       "      <td>0</td>\n",
       "      <td>1543</td>\n",
       "      <td>Everything including the nice upgrade The Hot...</td>\n",
       "      <td>...</td>\n",
       "      <td>0.543</td>\n",
       "      <td>0.9794</td>\n",
       "      <td>4</td>\n",
       "      <td>0</td>\n",
       "      <td>0</td>\n",
       "      <td>1</td>\n",
       "      <td>2</td>\n",
       "      <td>1</td>\n",
       "      <td>0</td>\n",
       "      <td>13</td>\n",
       "    </tr>\n",
       "    <tr>\n",
       "      <th>4</th>\n",
       "      <td>Singel 303 309 Amsterdam City Center 1012 WJ A...</td>\n",
       "      <td>834</td>\n",
       "      <td>2016-05-16</td>\n",
       "      <td>9.1</td>\n",
       "      <td>Hotel Esther a</td>\n",
       "      <td>United Kingdom</td>\n",
       "      <td>No Negative</td>\n",
       "      <td>0</td>\n",
       "      <td>4687</td>\n",
       "      <td>Lovely hotel v welcoming staff</td>\n",
       "      <td>...</td>\n",
       "      <td>0.770</td>\n",
       "      <td>0.7717</td>\n",
       "      <td>5</td>\n",
       "      <td>1</td>\n",
       "      <td>0</td>\n",
       "      <td>0</td>\n",
       "      <td>1</td>\n",
       "      <td>2</td>\n",
       "      <td>0</td>\n",
       "      <td>12</td>\n",
       "    </tr>\n",
       "  </tbody>\n",
       "</table>\n",
       "<p>5 rows × 41 columns</p>\n",
       "</div>"
      ],
      "text/plain": [
       "                                       hotel_address  \\\n",
       "0                 Via Senigallia 6 20161 Milan Italy   \n",
       "1  Arlandaweg 10 Westpoort 1043 EW Amsterdam Neth...   \n",
       "2        Mallorca 251 Eixample 08008 Barcelona Spain   \n",
       "3  Piazza Della Repubblica 17 Central Station 201...   \n",
       "4  Singel 303 309 Amsterdam City Center 1012 WJ A...   \n",
       "\n",
       "   additional_number_of_scoring review_date  average_score  \\\n",
       "0                           904  2017-07-21            8.1   \n",
       "1                           612  2016-12-12            8.6   \n",
       "2                            46  2015-11-26            8.3   \n",
       "3                           241  2015-10-17            9.1   \n",
       "4                           834  2016-05-16            9.1   \n",
       "\n",
       "                                   hotel_name        reviewer_nationality  \\\n",
       "0                              Hotel Da Vinci             United Kingdom    \n",
       "1                           Urban Lodge Hotel                    Belgium    \n",
       "2  Alexandra Barcelona A DoubleTree by Hilton                     Sweden    \n",
       "3                    Hotel Principe Di Savoia   United States of America    \n",
       "4                              Hotel Esther a             United Kingdom    \n",
       "\n",
       "                                     negative_review  \\\n",
       "0   Would have appreciated a shop in the hotel th...   \n",
       "1        No tissue paper box was present at the room   \n",
       "2                                           Pillows    \n",
       "3                                        No Negative   \n",
       "4                                        No Negative   \n",
       "\n",
       "   review_total_negative_word_counts  total_number_of_reviews  \\\n",
       "0                                 50                    16670   \n",
       "1                                  9                     5018   \n",
       "2                                  1                      351   \n",
       "3                                  0                     1543   \n",
       "4                                  0                     4687   \n",
       "\n",
       "                                     positive_review  ...  \\\n",
       "0   Hotel was great clean friendly staff free bre...  ...   \n",
       "1                                        No Positive  ...   \n",
       "2                         Nice welcoming and service  ...   \n",
       "3   Everything including the nice upgrade The Hot...  ...   \n",
       "4                    Lovely hotel v welcoming staff   ...   \n",
       "\n",
       "   pos_review_compliment_pos  pos_review_compliment_compound  tag_count  \\\n",
       "0                      0.329                          0.9615          4   \n",
       "1                      0.000                         -0.5719          4   \n",
       "2                      0.740                          0.6908          5   \n",
       "3                      0.543                          0.9794          4   \n",
       "4                      0.770                          0.7717          5   \n",
       "\n",
       "  tag_from_mobile tag_with_pet  tag_leisure_trip  tag_reviewer_type  \\\n",
       "0               0            0                 1                  2   \n",
       "1               0            0                 1                  6   \n",
       "2               1            0                 0                  1   \n",
       "3               0            0                 1                  2   \n",
       "4               1            0                 0                  1   \n",
       "\n",
       "  tag_count_nights  tag_view_room  tag_room_type  \n",
       "0                2              0             12  \n",
       "1                1              0             13  \n",
       "2                1              0             12  \n",
       "3                1              0             13  \n",
       "4                2              0             12  \n",
       "\n",
       "[5 rows x 41 columns]"
      ]
     },
     "execution_count": 214,
     "metadata": {},
     "output_type": "execute_result"
    }
   ],
   "source": [
    "data.head()"
   ]
  },
  {
   "cell_type": "markdown",
   "metadata": {},
   "source": [
    "##  3. Признак \"tags\".\n"
   ]
  },
  {
   "cell_type": "code",
   "execution_count": 215,
   "metadata": {},
   "outputs": [
    {
     "data": {
      "text/plain": [
       "\"[' Leisure trip ', ' Couple ', ' Superior Double Room ', ' Stayed 2 nights ']\""
      ]
     },
     "metadata": {},
     "output_type": "display_data"
    },
    {
     "data": {
      "text/plain": [
       "\"[' Business trip ', ' Group ', ' 3 rooms ', ' Stayed 1 night ']\""
      ]
     },
     "metadata": {},
     "output_type": "display_data"
    },
    {
     "data": {
      "text/plain": [
       "\"[' Leisure trip ', ' Family with older children ', ' Privilege Family Room ', ' Stayed 1 night ', ' Submitted from a mobile device ']\""
      ]
     },
     "metadata": {},
     "output_type": "display_data"
    }
   ],
   "source": [
    "# выводим информацию о структуре\n",
    "display(data['tags'].iloc[500])\n",
    "display(data['tags'].iloc[12000])\n",
    "display(data['tags'].iloc[350000])"
   ]
  },
  {
   "cell_type": "markdown",
   "metadata": {},
   "source": [
    "Комментарии / выводы:\n",
    "\n",
    "Из информации мы види, что данные представлены в виде строки и дополнительных символов. Произведем очистку данных."
   ]
  },
  {
   "cell_type": "code",
   "execution_count": 216,
   "metadata": {},
   "outputs": [],
   "source": [
    "# функция для очистки tags\n",
    "def get_change_tags(args):\n",
    "    new_list = []\n",
    "    # уберем одинарные ковычки и кв.скобки, разобъем по запятой\n",
    "    clean = args.replace(\"'\", \"\").replace(\"[\",\"\").replace(\"]\",\"\").split(\",\")\n",
    "    # уберем пробелы. Сформируем новый очищенный список и возвратим его\n",
    "    for i in clean:\n",
    "        j = i.strip()\n",
    "        new_list.append(j)\n",
    "\n",
    "    return new_list"
   ]
  },
  {
   "cell_type": "code",
   "execution_count": 217,
   "metadata": {},
   "outputs": [],
   "source": [
    "# производим очистку данных и выводим информацию о количестве уникальных тегов\n",
    "data['tags'] = data['tags'].apply(get_change_tags)\n",
    "#display(f'Уникальное количество тегов составляет {(hotels.tags.explode().nunique())}')"
   ]
  },
  {
   "cell_type": "code",
   "execution_count": 218,
   "metadata": {},
   "outputs": [
    {
     "data": {
      "text/plain": [
       "'Уникальное количество тегов составляет 2428'"
      ]
     },
     "metadata": {},
     "output_type": "display_data"
    }
   ],
   "source": [
    "display(f'Уникальное количество тегов составляет {(data.tags.explode().nunique())}')"
   ]
  },
  {
   "cell_type": "code",
   "execution_count": 219,
   "metadata": {},
   "outputs": [
    {
     "data": {
      "text/plain": [
       "tags\n",
       "Leisure trip                      417538\n",
       "Submitted from a mobile device    307470\n",
       "Couple                            252128\n",
       "Stayed 1 night                    193568\n",
       "Stayed 2 nights                   133850\n",
       "Solo traveler                     108476\n",
       "Stayed 3 nights                    95761\n",
       "Business trip                      82884\n",
       "Group                              65361\n",
       "Family with young children         60989\n",
       "Stayed 4 nights                    47777\n",
       "Double Room                        35207\n",
       "Standard Double Room               32247\n",
       "Superior Double Room               31361\n",
       "Family with older children         26334\n",
       "Deluxe Double Room                 24812\n",
       "Double or Twin Room                22393\n",
       "Stayed 5 nights                    20826\n",
       "Standard Double or Twin Room       17479\n",
       "Classic Double Room                16877\n",
       "Name: count, dtype: int64"
      ]
     },
     "metadata": {},
     "output_type": "display_data"
    }
   ],
   "source": [
    "# выводим количественные данные использования тегов - 20 первых позиций\n",
    "display(data['tags'].explode().value_counts().head(20))"
   ]
  },
  {
   "cell_type": "code",
   "execution_count": 220,
   "metadata": {},
   "outputs": [
    {
     "data": {
      "text/plain": [
       "['Leisure trip',\n",
       " 'Submitted from a mobile device',\n",
       " 'Couple',\n",
       " 'Stayed 1 night',\n",
       " 'Stayed 2 nights',\n",
       " 'Solo traveler',\n",
       " 'Stayed 3 nights',\n",
       " 'Business trip',\n",
       " 'Group',\n",
       " 'Family with young children',\n",
       " 'Stayed 4 nights',\n",
       " 'Double Room',\n",
       " 'Standard Double Room',\n",
       " 'Superior Double Room',\n",
       " 'Family with older children',\n",
       " 'Deluxe Double Room',\n",
       " 'Double or Twin Room',\n",
       " 'Stayed 5 nights',\n",
       " 'Standard Double or Twin Room',\n",
       " 'Classic Double Room']"
      ]
     },
     "metadata": {},
     "output_type": "display_data"
    }
   ],
   "source": [
    "# вывоводим лист 20 первых тегов\n",
    "tags_list = data['tags'].explode().value_counts().head(20).index.tolist()\n",
    "display(tags_list)"
   ]
  },
  {
   "cell_type": "code",
   "execution_count": 221,
   "metadata": {},
   "outputs": [],
   "source": [
    "# функция которая создает новые признаки из признаков tags\n",
    "def add_tags(df, list):\n",
    "    for review in list:\n",
    "        col_name = \"tags_\" + review.lower()\n",
    "        df[col_name] = df['tags'].apply(lambda x: 1 if review in x else 0)\n",
    "    return df"
   ]
  },
  {
   "cell_type": "code",
   "execution_count": 222,
   "metadata": {},
   "outputs": [
    {
     "name": "stdout",
     "output_type": "stream",
     "text": [
      "<class 'pandas.core.frame.DataFrame'>\n",
      "RangeIndex: 515431 entries, 0 to 515430\n",
      "Data columns (total 61 columns):\n",
      " #   Column                                      Non-Null Count   Dtype         \n",
      "---  ------                                      --------------   -----         \n",
      " 0   hotel_address                               515431 non-null  object        \n",
      " 1   additional_number_of_scoring                515431 non-null  int64         \n",
      " 2   review_date                                 515431 non-null  datetime64[ns]\n",
      " 3   average_score                               515431 non-null  float64       \n",
      " 4   hotel_name                                  515431 non-null  object        \n",
      " 5   reviewer_nationality                        515431 non-null  object        \n",
      " 6   negative_review                             515431 non-null  object        \n",
      " 7   review_total_negative_word_counts           515431 non-null  int64         \n",
      " 8   total_number_of_reviews                     515431 non-null  int64         \n",
      " 9   positive_review                             515431 non-null  object        \n",
      " 10  review_total_positive_word_counts           515431 non-null  int64         \n",
      " 11  total_number_of_reviews_reviewer_has_given  515431 non-null  int64         \n",
      " 12  reviewer_score                              515431 non-null  float64       \n",
      " 13  tags                                        515431 non-null  object        \n",
      " 14  days_since_review                           515431 non-null  object        \n",
      " 15  lat                                         515431 non-null  float64       \n",
      " 16  lng                                         515431 non-null  float64       \n",
      " 17  sample                                      515431 non-null  category      \n",
      " 18  review_year                                 515431 non-null  int32         \n",
      " 19  review_month                                515431 non-null  int32         \n",
      " 20  review_day                                  515431 non-null  int32         \n",
      " 21  review_dayofweek                            515431 non-null  int32         \n",
      " 22  review_week                                 515431 non-null  int32         \n",
      " 23  negative_review_word                        515431 non-null  object        \n",
      " 24  positive_review_word                        515431 non-null  object        \n",
      " 25  neg_review_compliment_neg                   515431 non-null  float64       \n",
      " 26  neg_review_compliment_neu                   515431 non-null  float64       \n",
      " 27  neg_review_compliment_pos                   515431 non-null  float64       \n",
      " 28  neg_review_compliment_compound              515431 non-null  float64       \n",
      " 29  pos_review_compliment_neg                   515431 non-null  float64       \n",
      " 30  pos_review_compliment_neu                   515431 non-null  float64       \n",
      " 31  pos_review_compliment_pos                   515431 non-null  float64       \n",
      " 32  pos_review_compliment_compound              515431 non-null  float64       \n",
      " 33  tag_count                                   515431 non-null  int64         \n",
      " 34  tag_from_mobile                             515431 non-null  int64         \n",
      " 35  tag_with_pet                                515431 non-null  int64         \n",
      " 36  tag_leisure_trip                            515431 non-null  int64         \n",
      " 37  tag_reviewer_type                           515431 non-null  int64         \n",
      " 38  tag_count_nights                            515431 non-null  int64         \n",
      " 39  tag_view_room                               515431 non-null  int64         \n",
      " 40  tag_room_type                               515431 non-null  int64         \n",
      " 41  tags_leisure trip                           515431 non-null  int64         \n",
      " 42  tags_submitted from a mobile device         515431 non-null  int64         \n",
      " 43  tags_couple                                 515431 non-null  int64         \n",
      " 44  tags_stayed 1 night                         515431 non-null  int64         \n",
      " 45  tags_stayed 2 nights                        515431 non-null  int64         \n",
      " 46  tags_solo traveler                          515431 non-null  int64         \n",
      " 47  tags_stayed 3 nights                        515431 non-null  int64         \n",
      " 48  tags_business trip                          515431 non-null  int64         \n",
      " 49  tags_group                                  515431 non-null  int64         \n",
      " 50  tags_family with young children             515431 non-null  int64         \n",
      " 51  tags_stayed 4 nights                        515431 non-null  int64         \n",
      " 52  tags_double room                            515431 non-null  int64         \n",
      " 53  tags_standard double room                   515431 non-null  int64         \n",
      " 54  tags_superior double room                   515431 non-null  int64         \n",
      " 55  tags_family with older children             515431 non-null  int64         \n",
      " 56  tags_deluxe double room                     515431 non-null  int64         \n",
      " 57  tags_double or twin room                    515431 non-null  int64         \n",
      " 58  tags_stayed 5 nights                        515431 non-null  int64         \n",
      " 59  tags_standard double or twin room           515431 non-null  int64         \n",
      " 60  tags_classic double room                    515431 non-null  int64         \n",
      "dtypes: category(1), datetime64[ns](1), float64(12), int32(5), int64(33), object(9)\n",
      "memory usage: 226.6+ MB\n"
     ]
    }
   ],
   "source": [
    "# формируем код и производим создание бинарных признаков из tags\n",
    "hotels = add_tags(data, tags_list)\n",
    "hotels.info()"
   ]
  },
  {
   "cell_type": "markdown",
   "metadata": {},
   "source": [
    "Признак \"negative_review\""
   ]
  },
  {
   "cell_type": "code",
   "execution_count": 223,
   "metadata": {},
   "outputs": [
    {
     "data": {
      "text/plain": [
       "' Would have appreciated a shop in the hotel that sold drinking water etc but not necessity Would recommend if like us you arrive late at night to bring drinks from plane airport as there s no shop nearby There is a minibar though if you want to pay those prices '"
      ]
     },
     "metadata": {},
     "output_type": "display_data"
    },
    {
     "data": {
      "text/plain": [
       "' No view of sunlight from the bedroom as it looked in a well and faced other rooms which meant no privacy Also a long walk around the hallways to get to the room'"
      ]
     },
     "metadata": {},
     "output_type": "display_data"
    },
    {
     "data": {
      "text/plain": [
       "' Rude staff on arrival Our room was not ready on arrival at 8pm even though we were able to check in from 3pm '"
      ]
     },
     "metadata": {},
     "output_type": "display_data"
    }
   ],
   "source": [
    "# формируем код и выводим информацию о структуре данных в признаке \"negative_review\"\n",
    "display(data['negative_review'].iloc[0])\n",
    "display(data['negative_review'].iloc[50])\n",
    "display(data['negative_review'].iloc[100])"
   ]
  },
  {
   "cell_type": "code",
   "execution_count": 224,
   "metadata": {},
   "outputs": [
    {
     "data": {
      "text/plain": [
       "negative_review\n",
       "no negative    127816\n",
       " nothing        16621\n",
       " nothing         4556\n",
       " n a             1775\n",
       " none            1297\n",
       "                  849\n",
       " breakfast        502\n",
       " small room       481\n",
       " location         446\n",
       " all good         385\n",
       "Name: count, dtype: int64"
      ]
     },
     "execution_count": 224,
     "metadata": {},
     "output_type": "execute_result"
    }
   ],
   "source": [
    "# формируем код и выводим информацию о количестве использования тегов в негативных отзывах\n",
    "hotels['negative_review'] = hotels['negative_review'].apply(lambda x: x.lower())\n",
    "hotels['negative_review'].explode().value_counts().iloc[0:10]"
   ]
  },
  {
   "cell_type": "code",
   "execution_count": 225,
   "metadata": {},
   "outputs": [],
   "source": [
    "# формируем список наиболее встречающихся тегов (в ручном режиме)\n",
    "negative_list = ['no negative', 'nothing', 'none', 'location', 'staff', 'breakfast', 'everything', 'n a', 'room', 'price', 'expensive', 'parking', 'bathroom', 'gym', 'bed']"
   ]
  },
  {
   "cell_type": "markdown",
   "metadata": {},
   "source": [
    "Признак \"positive_review\"\n"
   ]
  },
  {
   "cell_type": "code",
   "execution_count": 226,
   "metadata": {},
   "outputs": [
    {
     "data": {
      "text/plain": [
       "' Very friendly staff Always helpful especially Sylvia'"
      ]
     },
     "metadata": {},
     "output_type": "display_data"
    },
    {
     "data": {
      "text/plain": [
       "' Everything The bed was amazing best nights sleep ever '"
      ]
     },
     "metadata": {},
     "output_type": "display_data"
    },
    {
     "data": {
      "text/plain": [
       "' Simple check in procedure and clarity and effectiveness of communication between reception and parking lot in making the parking even though not directly connected with the hotel'"
      ]
     },
     "metadata": {},
     "output_type": "display_data"
    }
   ],
   "source": [
    "# формируем код и выводим информацию о структуре данных в признаке \"positive_review\"\n",
    "display(data['positive_review'].iloc[650])\n",
    "display(data['positive_review'].iloc[256897])\n",
    "display(data['positive_review'].iloc[309341])"
   ]
  },
  {
   "cell_type": "code",
   "execution_count": 227,
   "metadata": {},
   "outputs": [
    {
     "data": {
      "text/plain": [
       "positive_review\n",
       "no positive        35924\n",
       " location          10950\n",
       " everything         2629\n",
       " nothing            1476\n",
       " the location       1362\n",
       " great location     1270\n",
       " good location      1195\n",
       " location            983\n",
       " breakfast           730\n",
       " everything          685\n",
       "Name: count, dtype: int64"
      ]
     },
     "execution_count": 227,
     "metadata": {},
     "output_type": "execute_result"
    }
   ],
   "source": [
    "hotels['positive_review'] = hotels['positive_review'].apply(lambda x: x.lower())\n",
    "hotels['positive_review'].explode().value_counts().iloc[0:10]"
   ]
  },
  {
   "cell_type": "code",
   "execution_count": 228,
   "metadata": {},
   "outputs": [],
   "source": [
    "# формируем список наиболее встречающихся тегов (в ручном режиме)\n",
    "positive_list = ['no positive', 'nothing', 'location', 'staff', 'breakfast', 'everything', 'service', 'bed', 'room', 'all', 'clean', 'cleanliness', 'view', 'price', 'spa']"
   ]
  },
  {
   "cell_type": "code",
   "execution_count": 229,
   "metadata": {},
   "outputs": [],
   "source": [
    "# формируем код функции которая создает новые признаки из признаков negative_review и positive_review и присваивает им бинарные значения\n",
    "def add_review_features(df, negative_list, positive_list):\n",
    "    for review in negative_list:\n",
    "        col_name = \"negative_\" + review.lower()\n",
    "        df[col_name] = df['negative_review'].apply(lambda x: 1 if review in x.lower() else 0)\n",
    "    for review in positive_list:\n",
    "        col_name = \"positive_\" + review.lower()\n",
    "        df[col_name] = df['positive_review'].apply(lambda x: 1 if review in x.lower() else 0)\n",
    "    return df"
   ]
  },
  {
   "cell_type": "code",
   "execution_count": 230,
   "metadata": {},
   "outputs": [],
   "source": [
    "# формируем код и производим создание бинарных признаков из negative_review и positive_review\n",
    "hotels = add_review_features(hotels, negative_list ,positive_list)\n",
    "#hotels.info()"
   ]
  },
  {
   "cell_type": "markdown",
   "metadata": {},
   "source": [
    "Произведем анализ тональности отзывов в признаках \"negative_review\" и \"positive_review\" c помощью библиотеки nltk."
   ]
  },
  {
   "cell_type": "code",
   "execution_count": 231,
   "metadata": {},
   "outputs": [
    {
     "name": "stderr",
     "output_type": "stream",
     "text": [
      "[nltk_data] Downloading package vader_lexicon to\n",
      "[nltk_data]     C:\\Users\\USER\\AppData\\Roaming\\nltk_data...\n",
      "[nltk_data]   Package vader_lexicon is already up-to-date!\n"
     ]
    }
   ],
   "source": [
    "nltk.downloader.download('vader_lexicon')\n",
    "sent_analyzer = SentimentIntensityAnalyzer()\n",
    "\n",
    "sent_keys = ['neg', 'neu', 'pos', 'compound']\n",
    "for key in sent_keys:\n",
    "    hotels['pos_rev_'+key] = 0\n",
    "    hotels['neg_rev_'+key] = 0\n",
    "\n",
    "def get_pos_sentiments(row):\n",
    "    sent_pos_dict = sent_analyzer.polarity_scores(row['positive_review'])\n",
    "    sent_neg_dict = sent_analyzer.polarity_scores(row['negative_review'])\n",
    "    for key in sent_keys:\n",
    "        row['pos_rev_' + key] = sent_pos_dict[key]\n",
    "        row['neg_rev_' + key] = sent_neg_dict[key]\n",
    "    return row\n",
    "\n",
    "hotels = hotels.apply(get_pos_sentiments, axis=1)"
   ]
  },
  {
   "cell_type": "code",
   "execution_count": 232,
   "metadata": {},
   "outputs": [
    {
     "name": "stdout",
     "output_type": "stream",
     "text": [
      "<class 'pandas.core.frame.DataFrame'>\n",
      "RangeIndex: 515431 entries, 0 to 515430\n",
      "Data columns (total 99 columns):\n",
      " #   Column                                      Non-Null Count   Dtype         \n",
      "---  ------                                      --------------   -----         \n",
      " 0   hotel_address                               515431 non-null  object        \n",
      " 1   additional_number_of_scoring                515431 non-null  int64         \n",
      " 2   review_date                                 515431 non-null  datetime64[ns]\n",
      " 3   average_score                               515431 non-null  float64       \n",
      " 4   hotel_name                                  515431 non-null  object        \n",
      " 5   reviewer_nationality                        515431 non-null  object        \n",
      " 6   negative_review                             515431 non-null  object        \n",
      " 7   review_total_negative_word_counts           515431 non-null  int64         \n",
      " 8   total_number_of_reviews                     515431 non-null  int64         \n",
      " 9   positive_review                             515431 non-null  object        \n",
      " 10  review_total_positive_word_counts           515431 non-null  int64         \n",
      " 11  total_number_of_reviews_reviewer_has_given  515431 non-null  int64         \n",
      " 12  reviewer_score                              515431 non-null  float64       \n",
      " 13  tags                                        515431 non-null  object        \n",
      " 14  days_since_review                           515431 non-null  object        \n",
      " 15  lat                                         515431 non-null  float64       \n",
      " 16  lng                                         515431 non-null  float64       \n",
      " 17  sample                                      515431 non-null  int64         \n",
      " 18  review_year                                 515431 non-null  int64         \n",
      " 19  review_month                                515431 non-null  int64         \n",
      " 20  review_day                                  515431 non-null  int64         \n",
      " 21  review_dayofweek                            515431 non-null  int64         \n",
      " 22  review_week                                 515431 non-null  int64         \n",
      " 23  negative_review_word                        515431 non-null  object        \n",
      " 24  positive_review_word                        515431 non-null  object        \n",
      " 25  neg_review_compliment_neg                   515431 non-null  float64       \n",
      " 26  neg_review_compliment_neu                   515431 non-null  float64       \n",
      " 27  neg_review_compliment_pos                   515431 non-null  float64       \n",
      " 28  neg_review_compliment_compound              515431 non-null  float64       \n",
      " 29  pos_review_compliment_neg                   515431 non-null  float64       \n",
      " 30  pos_review_compliment_neu                   515431 non-null  float64       \n",
      " 31  pos_review_compliment_pos                   515431 non-null  float64       \n",
      " 32  pos_review_compliment_compound              515431 non-null  float64       \n",
      " 33  tag_count                                   515431 non-null  int64         \n",
      " 34  tag_from_mobile                             515431 non-null  int64         \n",
      " 35  tag_with_pet                                515431 non-null  int64         \n",
      " 36  tag_leisure_trip                            515431 non-null  int64         \n",
      " 37  tag_reviewer_type                           515431 non-null  int64         \n",
      " 38  tag_count_nights                            515431 non-null  int64         \n",
      " 39  tag_view_room                               515431 non-null  int64         \n",
      " 40  tag_room_type                               515431 non-null  int64         \n",
      " 41  tags_leisure trip                           515431 non-null  int64         \n",
      " 42  tags_submitted from a mobile device         515431 non-null  int64         \n",
      " 43  tags_couple                                 515431 non-null  int64         \n",
      " 44  tags_stayed 1 night                         515431 non-null  int64         \n",
      " 45  tags_stayed 2 nights                        515431 non-null  int64         \n",
      " 46  tags_solo traveler                          515431 non-null  int64         \n",
      " 47  tags_stayed 3 nights                        515431 non-null  int64         \n",
      " 48  tags_business trip                          515431 non-null  int64         \n",
      " 49  tags_group                                  515431 non-null  int64         \n",
      " 50  tags_family with young children             515431 non-null  int64         \n",
      " 51  tags_stayed 4 nights                        515431 non-null  int64         \n",
      " 52  tags_double room                            515431 non-null  int64         \n",
      " 53  tags_standard double room                   515431 non-null  int64         \n",
      " 54  tags_superior double room                   515431 non-null  int64         \n",
      " 55  tags_family with older children             515431 non-null  int64         \n",
      " 56  tags_deluxe double room                     515431 non-null  int64         \n",
      " 57  tags_double or twin room                    515431 non-null  int64         \n",
      " 58  tags_stayed 5 nights                        515431 non-null  int64         \n",
      " 59  tags_standard double or twin room           515431 non-null  int64         \n",
      " 60  tags_classic double room                    515431 non-null  int64         \n",
      " 61  negative_no negative                        515431 non-null  int64         \n",
      " 62  negative_nothing                            515431 non-null  int64         \n",
      " 63  negative_none                               515431 non-null  int64         \n",
      " 64  negative_location                           515431 non-null  int64         \n",
      " 65  negative_staff                              515431 non-null  int64         \n",
      " 66  negative_breakfast                          515431 non-null  int64         \n",
      " 67  negative_everything                         515431 non-null  int64         \n",
      " 68  negative_n a                                515431 non-null  int64         \n",
      " 69  negative_room                               515431 non-null  int64         \n",
      " 70  negative_price                              515431 non-null  int64         \n",
      " 71  negative_expensive                          515431 non-null  int64         \n",
      " 72  negative_parking                            515431 non-null  int64         \n",
      " 73  negative_bathroom                           515431 non-null  int64         \n",
      " 74  negative_gym                                515431 non-null  int64         \n",
      " 75  negative_bed                                515431 non-null  int64         \n",
      " 76  positive_no positive                        515431 non-null  int64         \n",
      " 77  positive_nothing                            515431 non-null  int64         \n",
      " 78  positive_location                           515431 non-null  int64         \n",
      " 79  positive_staff                              515431 non-null  int64         \n",
      " 80  positive_breakfast                          515431 non-null  int64         \n",
      " 81  positive_everything                         515431 non-null  int64         \n",
      " 82  positive_service                            515431 non-null  int64         \n",
      " 83  positive_bed                                515431 non-null  int64         \n",
      " 84  positive_room                               515431 non-null  int64         \n",
      " 85  positive_all                                515431 non-null  int64         \n",
      " 86  positive_clean                              515431 non-null  int64         \n",
      " 87  positive_cleanliness                        515431 non-null  int64         \n",
      " 88  positive_view                               515431 non-null  int64         \n",
      " 89  positive_price                              515431 non-null  int64         \n",
      " 90  positive_spa                                515431 non-null  int64         \n",
      " 91  pos_rev_neg                                 515431 non-null  float64       \n",
      " 92  neg_rev_neg                                 515431 non-null  float64       \n",
      " 93  pos_rev_neu                                 515431 non-null  float64       \n",
      " 94  neg_rev_neu                                 515431 non-null  float64       \n",
      " 95  pos_rev_pos                                 515431 non-null  float64       \n",
      " 96  neg_rev_pos                                 515431 non-null  float64       \n",
      " 97  pos_rev_compound                            515431 non-null  float64       \n",
      " 98  neg_rev_compound                            515431 non-null  float64       \n",
      "dtypes: datetime64[ns](1), float64(20), int64(69), object(9)\n",
      "memory usage: 389.3+ MB\n"
     ]
    },
    {
     "data": {
      "text/plain": [
       "None"
      ]
     },
     "metadata": {},
     "output_type": "display_data"
    }
   ],
   "source": [
    "#формируем код и выводи информацию после преобразования\n",
    "display(hotels.info())"
   ]
  },
  {
   "cell_type": "markdown",
   "metadata": {},
   "source": [
    "## 4. Кодирование признаков."
   ]
  },
  {
   "cell_type": "code",
   "execution_count": 233,
   "metadata": {},
   "outputs": [
    {
     "name": "stdout",
     "output_type": "stream",
     "text": [
      "Requirement already satisfied: category_encoders in c:\\users\\user\\appdata\\local\\programs\\python\\python39\\lib\\site-packages (2.6.3)\n",
      "Requirement already satisfied: numpy>=1.14.0 in c:\\users\\user\\appdata\\local\\programs\\python\\python39\\lib\\site-packages (from category_encoders) (1.26.1)\n",
      "Requirement already satisfied: scikit-learn>=0.20.0 in c:\\users\\user\\appdata\\local\\programs\\python\\python39\\lib\\site-packages (from category_encoders) (1.5.1)\n",
      "Requirement already satisfied: scipy>=1.0.0 in c:\\users\\user\\appdata\\local\\programs\\python\\python39\\lib\\site-packages (from category_encoders) (1.13.0)\n",
      "Requirement already satisfied: statsmodels>=0.9.0 in c:\\users\\user\\appdata\\local\\programs\\python\\python39\\lib\\site-packages (from category_encoders) (0.14.2)\n",
      "Requirement already satisfied: pandas>=1.0.5 in c:\\users\\user\\appdata\\local\\programs\\python\\python39\\lib\\site-packages (from category_encoders) (2.1.3)\n",
      "Requirement already satisfied: patsy>=0.5.1 in c:\\users\\user\\appdata\\local\\programs\\python\\python39\\lib\\site-packages (from category_encoders) (0.5.6)\n",
      "Requirement already satisfied: python-dateutil>=2.8.2 in c:\\users\\user\\appdata\\roaming\\python\\python39\\site-packages (from pandas>=1.0.5->category_encoders) (2.8.2)\n",
      "Requirement already satisfied: pytz>=2020.1 in c:\\users\\user\\appdata\\local\\programs\\python\\python39\\lib\\site-packages (from pandas>=1.0.5->category_encoders) (2023.3.post1)\n",
      "Requirement already satisfied: tzdata>=2022.1 in c:\\users\\user\\appdata\\local\\programs\\python\\python39\\lib\\site-packages (from pandas>=1.0.5->category_encoders) (2023.3)\n",
      "Requirement already satisfied: six in c:\\users\\user\\appdata\\roaming\\python\\python39\\site-packages (from patsy>=0.5.1->category_encoders) (1.16.0)\n",
      "Requirement already satisfied: joblib>=1.2.0 in c:\\users\\user\\appdata\\local\\programs\\python\\python39\\lib\\site-packages (from scikit-learn>=0.20.0->category_encoders) (1.4.2)\n",
      "Requirement already satisfied: threadpoolctl>=3.1.0 in c:\\users\\user\\appdata\\local\\programs\\python\\python39\\lib\\site-packages (from scikit-learn>=0.20.0->category_encoders) (3.5.0)\n",
      "Requirement already satisfied: packaging>=21.3 in c:\\users\\user\\appdata\\roaming\\python\\python39\\site-packages (from statsmodels>=0.9.0->category_encoders) (23.2)\n"
     ]
    }
   ],
   "source": [
    "#импортируем библиотеки для кодирования признаков\n",
    "!pip install category_encoders"
   ]
  },
  {
   "cell_type": "code",
   "execution_count": 234,
   "metadata": {},
   "outputs": [],
   "source": [
    "#импортируем библиотеки для кодирования признаков\n",
    "import category_encoders as ce"
   ]
  },
  {
   "cell_type": "markdown",
   "metadata": {},
   "source": [
    "Кодеровка национальность рецензента ('reviewer_nationality')."
   ]
  },
  {
   "cell_type": "code",
   "execution_count": 235,
   "metadata": {},
   "outputs": [],
   "source": [
    "# Кодируем признак национальности рецензента\n",
    "bin_enc = ce.BinaryEncoder()\n",
    "col_enc = bin_enc.fit_transform(hotels['reviewer_nationality'])\n",
    "df = pd.concat([hotels, col_enc], axis=1)"
   ]
  },
  {
   "cell_type": "code",
   "execution_count": 236,
   "metadata": {},
   "outputs": [
    {
     "name": "stdout",
     "output_type": "stream",
     "text": [
      "<class 'pandas.core.frame.DataFrame'>\n",
      "RangeIndex: 515431 entries, 0 to 515430\n",
      "Data columns (total 99 columns):\n",
      " #   Column                                      Non-Null Count   Dtype         \n",
      "---  ------                                      --------------   -----         \n",
      " 0   hotel_address                               515431 non-null  object        \n",
      " 1   additional_number_of_scoring                515431 non-null  int64         \n",
      " 2   review_date                                 515431 non-null  datetime64[ns]\n",
      " 3   average_score                               515431 non-null  float64       \n",
      " 4   hotel_name                                  515431 non-null  object        \n",
      " 5   reviewer_nationality                        515431 non-null  object        \n",
      " 6   negative_review                             515431 non-null  object        \n",
      " 7   review_total_negative_word_counts           515431 non-null  int64         \n",
      " 8   total_number_of_reviews                     515431 non-null  int64         \n",
      " 9   positive_review                             515431 non-null  object        \n",
      " 10  review_total_positive_word_counts           515431 non-null  int64         \n",
      " 11  total_number_of_reviews_reviewer_has_given  515431 non-null  int64         \n",
      " 12  reviewer_score                              515431 non-null  float64       \n",
      " 13  tags                                        515431 non-null  object        \n",
      " 14  days_since_review                           515431 non-null  object        \n",
      " 15  lat                                         515431 non-null  float64       \n",
      " 16  lng                                         515431 non-null  float64       \n",
      " 17  sample                                      515431 non-null  int64         \n",
      " 18  review_year                                 515431 non-null  int64         \n",
      " 19  review_month                                515431 non-null  int64         \n",
      " 20  review_day                                  515431 non-null  int64         \n",
      " 21  review_dayofweek                            515431 non-null  int64         \n",
      " 22  review_week                                 515431 non-null  int64         \n",
      " 23  negative_review_word                        515431 non-null  object        \n",
      " 24  positive_review_word                        515431 non-null  object        \n",
      " 25  neg_review_compliment_neg                   515431 non-null  float64       \n",
      " 26  neg_review_compliment_neu                   515431 non-null  float64       \n",
      " 27  neg_review_compliment_pos                   515431 non-null  float64       \n",
      " 28  neg_review_compliment_compound              515431 non-null  float64       \n",
      " 29  pos_review_compliment_neg                   515431 non-null  float64       \n",
      " 30  pos_review_compliment_neu                   515431 non-null  float64       \n",
      " 31  pos_review_compliment_pos                   515431 non-null  float64       \n",
      " 32  pos_review_compliment_compound              515431 non-null  float64       \n",
      " 33  tag_count                                   515431 non-null  int64         \n",
      " 34  tag_from_mobile                             515431 non-null  int64         \n",
      " 35  tag_with_pet                                515431 non-null  int64         \n",
      " 36  tag_leisure_trip                            515431 non-null  int64         \n",
      " 37  tag_reviewer_type                           515431 non-null  int64         \n",
      " 38  tag_count_nights                            515431 non-null  int64         \n",
      " 39  tag_view_room                               515431 non-null  int64         \n",
      " 40  tag_room_type                               515431 non-null  int64         \n",
      " 41  tags_leisure trip                           515431 non-null  int64         \n",
      " 42  tags_submitted from a mobile device         515431 non-null  int64         \n",
      " 43  tags_couple                                 515431 non-null  int64         \n",
      " 44  tags_stayed 1 night                         515431 non-null  int64         \n",
      " 45  tags_stayed 2 nights                        515431 non-null  int64         \n",
      " 46  tags_solo traveler                          515431 non-null  int64         \n",
      " 47  tags_stayed 3 nights                        515431 non-null  int64         \n",
      " 48  tags_business trip                          515431 non-null  int64         \n",
      " 49  tags_group                                  515431 non-null  int64         \n",
      " 50  tags_family with young children             515431 non-null  int64         \n",
      " 51  tags_stayed 4 nights                        515431 non-null  int64         \n",
      " 52  tags_double room                            515431 non-null  int64         \n",
      " 53  tags_standard double room                   515431 non-null  int64         \n",
      " 54  tags_superior double room                   515431 non-null  int64         \n",
      " 55  tags_family with older children             515431 non-null  int64         \n",
      " 56  tags_deluxe double room                     515431 non-null  int64         \n",
      " 57  tags_double or twin room                    515431 non-null  int64         \n",
      " 58  tags_stayed 5 nights                        515431 non-null  int64         \n",
      " 59  tags_standard double or twin room           515431 non-null  int64         \n",
      " 60  tags_classic double room                    515431 non-null  int64         \n",
      " 61  negative_no negative                        515431 non-null  int64         \n",
      " 62  negative_nothing                            515431 non-null  int64         \n",
      " 63  negative_none                               515431 non-null  int64         \n",
      " 64  negative_location                           515431 non-null  int64         \n",
      " 65  negative_staff                              515431 non-null  int64         \n",
      " 66  negative_breakfast                          515431 non-null  int64         \n",
      " 67  negative_everything                         515431 non-null  int64         \n",
      " 68  negative_n a                                515431 non-null  int64         \n",
      " 69  negative_room                               515431 non-null  int64         \n",
      " 70  negative_price                              515431 non-null  int64         \n",
      " 71  negative_expensive                          515431 non-null  int64         \n",
      " 72  negative_parking                            515431 non-null  int64         \n",
      " 73  negative_bathroom                           515431 non-null  int64         \n",
      " 74  negative_gym                                515431 non-null  int64         \n",
      " 75  negative_bed                                515431 non-null  int64         \n",
      " 76  positive_no positive                        515431 non-null  int64         \n",
      " 77  positive_nothing                            515431 non-null  int64         \n",
      " 78  positive_location                           515431 non-null  int64         \n",
      " 79  positive_staff                              515431 non-null  int64         \n",
      " 80  positive_breakfast                          515431 non-null  int64         \n",
      " 81  positive_everything                         515431 non-null  int64         \n",
      " 82  positive_service                            515431 non-null  int64         \n",
      " 83  positive_bed                                515431 non-null  int64         \n",
      " 84  positive_room                               515431 non-null  int64         \n",
      " 85  positive_all                                515431 non-null  int64         \n",
      " 86  positive_clean                              515431 non-null  int64         \n",
      " 87  positive_cleanliness                        515431 non-null  int64         \n",
      " 88  positive_view                               515431 non-null  int64         \n",
      " 89  positive_price                              515431 non-null  int64         \n",
      " 90  positive_spa                                515431 non-null  int64         \n",
      " 91  pos_rev_neg                                 515431 non-null  float64       \n",
      " 92  neg_rev_neg                                 515431 non-null  float64       \n",
      " 93  pos_rev_neu                                 515431 non-null  float64       \n",
      " 94  neg_rev_neu                                 515431 non-null  float64       \n",
      " 95  pos_rev_pos                                 515431 non-null  float64       \n",
      " 96  neg_rev_pos                                 515431 non-null  float64       \n",
      " 97  pos_rev_compound                            515431 non-null  float64       \n",
      " 98  neg_rev_compound                            515431 non-null  float64       \n",
      "dtypes: datetime64[ns](1), float64(20), int64(69), object(9)\n",
      "memory usage: 389.3+ MB\n"
     ]
    }
   ],
   "source": [
    "hotels.info()"
   ]
  },
  {
   "cell_type": "code",
   "execution_count": 237,
   "metadata": {},
   "outputs": [],
   "source": [
    "# для начала удалим текстовые признаки, которые мы закодировали\n",
    "\n",
    "hotels = hotels.drop(['hotel_address'], axis=1)\n",
    "hotels = hotels.drop(['review_date'], axis=1)\n",
    "hotels = hotels.drop(['tags'], axis=1)"
   ]
  },
  {
   "cell_type": "code",
   "execution_count": 238,
   "metadata": {},
   "outputs": [
    {
     "name": "stdout",
     "output_type": "stream",
     "text": [
      "['hotel_name', 'reviewer_nationality', 'negative_review', 'positive_review', 'days_since_review', 'negative_review_word', 'positive_review_word']\n"
     ]
    }
   ],
   "source": [
    "# далее удалим оставшиеся текстовые признаки\n",
    "\n",
    "object_columns = [x for x in hotels.columns if hotels[x].dtypes == 'object']\n",
    "print(object_columns)\n",
    "\n",
    "hotels.drop(object_columns, axis = 1, inplace=True)"
   ]
  },
  {
   "cell_type": "code",
   "execution_count": 239,
   "metadata": {},
   "outputs": [
    {
     "name": "stdout",
     "output_type": "stream",
     "text": [
      "<class 'pandas.core.frame.DataFrame'>\n",
      "RangeIndex: 515431 entries, 0 to 515430\n",
      "Data columns (total 89 columns):\n",
      " #   Column                                      Non-Null Count   Dtype  \n",
      "---  ------                                      --------------   -----  \n",
      " 0   additional_number_of_scoring                515431 non-null  int64  \n",
      " 1   average_score                               515431 non-null  float64\n",
      " 2   review_total_negative_word_counts           515431 non-null  int64  \n",
      " 3   total_number_of_reviews                     515431 non-null  int64  \n",
      " 4   review_total_positive_word_counts           515431 non-null  int64  \n",
      " 5   total_number_of_reviews_reviewer_has_given  515431 non-null  int64  \n",
      " 6   reviewer_score                              515431 non-null  float64\n",
      " 7   lat                                         515431 non-null  float64\n",
      " 8   lng                                         515431 non-null  float64\n",
      " 9   sample                                      515431 non-null  int64  \n",
      " 10  review_year                                 515431 non-null  int64  \n",
      " 11  review_month                                515431 non-null  int64  \n",
      " 12  review_day                                  515431 non-null  int64  \n",
      " 13  review_dayofweek                            515431 non-null  int64  \n",
      " 14  review_week                                 515431 non-null  int64  \n",
      " 15  neg_review_compliment_neg                   515431 non-null  float64\n",
      " 16  neg_review_compliment_neu                   515431 non-null  float64\n",
      " 17  neg_review_compliment_pos                   515431 non-null  float64\n",
      " 18  neg_review_compliment_compound              515431 non-null  float64\n",
      " 19  pos_review_compliment_neg                   515431 non-null  float64\n",
      " 20  pos_review_compliment_neu                   515431 non-null  float64\n",
      " 21  pos_review_compliment_pos                   515431 non-null  float64\n",
      " 22  pos_review_compliment_compound              515431 non-null  float64\n",
      " 23  tag_count                                   515431 non-null  int64  \n",
      " 24  tag_from_mobile                             515431 non-null  int64  \n",
      " 25  tag_with_pet                                515431 non-null  int64  \n",
      " 26  tag_leisure_trip                            515431 non-null  int64  \n",
      " 27  tag_reviewer_type                           515431 non-null  int64  \n",
      " 28  tag_count_nights                            515431 non-null  int64  \n",
      " 29  tag_view_room                               515431 non-null  int64  \n",
      " 30  tag_room_type                               515431 non-null  int64  \n",
      " 31  tags_leisure trip                           515431 non-null  int64  \n",
      " 32  tags_submitted from a mobile device         515431 non-null  int64  \n",
      " 33  tags_couple                                 515431 non-null  int64  \n",
      " 34  tags_stayed 1 night                         515431 non-null  int64  \n",
      " 35  tags_stayed 2 nights                        515431 non-null  int64  \n",
      " 36  tags_solo traveler                          515431 non-null  int64  \n",
      " 37  tags_stayed 3 nights                        515431 non-null  int64  \n",
      " 38  tags_business trip                          515431 non-null  int64  \n",
      " 39  tags_group                                  515431 non-null  int64  \n",
      " 40  tags_family with young children             515431 non-null  int64  \n",
      " 41  tags_stayed 4 nights                        515431 non-null  int64  \n",
      " 42  tags_double room                            515431 non-null  int64  \n",
      " 43  tags_standard double room                   515431 non-null  int64  \n",
      " 44  tags_superior double room                   515431 non-null  int64  \n",
      " 45  tags_family with older children             515431 non-null  int64  \n",
      " 46  tags_deluxe double room                     515431 non-null  int64  \n",
      " 47  tags_double or twin room                    515431 non-null  int64  \n",
      " 48  tags_stayed 5 nights                        515431 non-null  int64  \n",
      " 49  tags_standard double or twin room           515431 non-null  int64  \n",
      " 50  tags_classic double room                    515431 non-null  int64  \n",
      " 51  negative_no negative                        515431 non-null  int64  \n",
      " 52  negative_nothing                            515431 non-null  int64  \n",
      " 53  negative_none                               515431 non-null  int64  \n",
      " 54  negative_location                           515431 non-null  int64  \n",
      " 55  negative_staff                              515431 non-null  int64  \n",
      " 56  negative_breakfast                          515431 non-null  int64  \n",
      " 57  negative_everything                         515431 non-null  int64  \n",
      " 58  negative_n a                                515431 non-null  int64  \n",
      " 59  negative_room                               515431 non-null  int64  \n",
      " 60  negative_price                              515431 non-null  int64  \n",
      " 61  negative_expensive                          515431 non-null  int64  \n",
      " 62  negative_parking                            515431 non-null  int64  \n",
      " 63  negative_bathroom                           515431 non-null  int64  \n",
      " 64  negative_gym                                515431 non-null  int64  \n",
      " 65  negative_bed                                515431 non-null  int64  \n",
      " 66  positive_no positive                        515431 non-null  int64  \n",
      " 67  positive_nothing                            515431 non-null  int64  \n",
      " 68  positive_location                           515431 non-null  int64  \n",
      " 69  positive_staff                              515431 non-null  int64  \n",
      " 70  positive_breakfast                          515431 non-null  int64  \n",
      " 71  positive_everything                         515431 non-null  int64  \n",
      " 72  positive_service                            515431 non-null  int64  \n",
      " 73  positive_bed                                515431 non-null  int64  \n",
      " 74  positive_room                               515431 non-null  int64  \n",
      " 75  positive_all                                515431 non-null  int64  \n",
      " 76  positive_clean                              515431 non-null  int64  \n",
      " 77  positive_cleanliness                        515431 non-null  int64  \n",
      " 78  positive_view                               515431 non-null  int64  \n",
      " 79  positive_price                              515431 non-null  int64  \n",
      " 80  positive_spa                                515431 non-null  int64  \n",
      " 81  pos_rev_neg                                 515431 non-null  float64\n",
      " 82  neg_rev_neg                                 515431 non-null  float64\n",
      " 83  pos_rev_neu                                 515431 non-null  float64\n",
      " 84  neg_rev_neu                                 515431 non-null  float64\n",
      " 85  pos_rev_pos                                 515431 non-null  float64\n",
      " 86  neg_rev_pos                                 515431 non-null  float64\n",
      " 87  pos_rev_compound                            515431 non-null  float64\n",
      " 88  neg_rev_compound                            515431 non-null  float64\n",
      "dtypes: float64(20), int64(69)\n",
      "memory usage: 350.0 MB\n"
     ]
    }
   ],
   "source": [
    "hotels.info()"
   ]
  },
  {
   "cell_type": "code",
   "execution_count": 240,
   "metadata": {},
   "outputs": [],
   "source": [
    "# выделим из датасета тестовую часть\n",
    "\n",
    "train_df = hotels.query('sample == 1').drop(['sample'], axis=1)\n",
    "test_df = hotels.query('sample == 0').drop(['sample'], axis=1)\n",
    "\n",
    "y = train_df.reviewer_score.values\n",
    "X = train_df.drop(['reviewer_score'], axis=1)"
   ]
  },
  {
   "cell_type": "code",
   "execution_count": 241,
   "metadata": {},
   "outputs": [],
   "source": [
    "# при помощи train_test_split для разбивки тестовых данных\n",
    "# разделяем тренинговый датасет: 80% на обучение, 20% на валидацию\n",
    "\n",
    "X_train, X_test, y_train, y_test = train_test_split(X, y, test_size=0.2, random_state=RANDOM_SEED)"
   ]
  },
  {
   "cell_type": "code",
   "execution_count": 242,
   "metadata": {},
   "outputs": [
    {
     "data": {
      "text/plain": [
       "((128935, 88), (386496, 88), (386496, 87), (309196, 87), (77300, 87))"
      ]
     },
     "execution_count": 242,
     "metadata": {},
     "output_type": "execute_result"
    }
   ],
   "source": [
    "# проверяем данные\n",
    "\n",
    "test_df.shape, train_df.shape, X.shape, X_train.shape, X_test.shape"
   ]
  },
  {
   "cell_type": "markdown",
   "metadata": {},
   "source": [
    "## 5. Обучение модели."
   ]
  },
  {
   "cell_type": "code",
   "execution_count": 243,
   "metadata": {},
   "outputs": [],
   "source": [
    "from sklearn.preprocessing import LabelEncoder\n",
    "from sklearn.ensemble import RandomForestRegressor\n",
    "from sklearn import metrics"
   ]
  },
  {
   "cell_type": "code",
   "execution_count": 244,
   "metadata": {},
   "outputs": [],
   "source": [
    "# создаём модель\n",
    "\n",
    "regr = RandomForestRegressor(\n",
    "    n_estimators=100,\n",
    "    verbose=1,\n",
    "    n_jobs=-1,\n",
    "    random_state=RANDOM_SEED)"
   ]
  },
  {
   "cell_type": "code",
   "execution_count": 245,
   "metadata": {},
   "outputs": [
    {
     "name": "stderr",
     "output_type": "stream",
     "text": [
      "[Parallel(n_jobs=-1)]: Using backend ThreadingBackend with 4 concurrent workers.\n",
      "[Parallel(n_jobs=-1)]: Done  42 tasks      | elapsed:  6.3min\n",
      "[Parallel(n_jobs=-1)]: Done 100 out of 100 | elapsed: 14.5min finished\n",
      "[Parallel(n_jobs=4)]: Using backend ThreadingBackend with 4 concurrent workers.\n",
      "[Parallel(n_jobs=4)]: Done  42 tasks      | elapsed:   10.9s\n",
      "[Parallel(n_jobs=4)]: Done 100 out of 100 | elapsed:   12.9s finished\n"
     ]
    }
   ],
   "source": [
    "# обучаем модель на тестовом наборе данных  \n",
    "\n",
    "regr.fit(X_train, y_train)\n",
    "\n",
    "# используем обученную модель для предсказания рейтинга отелей в тестовой выборке\n",
    "# предсказанные значения записываем в переменную y_pred\n",
    "\n",
    "y_pred = regr.predict(X_test)"
   ]
  },
  {
   "cell_type": "code",
   "execution_count": 246,
   "metadata": {},
   "outputs": [
    {
     "name": "stdout",
     "output_type": "stream",
     "text": [
      "MAE: 0.82961729\n",
      "MAPE: 11.78324299\n"
     ]
    }
   ],
   "source": [
    "# сравниваем предсказанные значения (y_pred) с реальными (y_test)\n",
    "# метрика Mean Absolute Error (MAE) показывает среднее отклонение предсказанных значений от фактических\n",
    "# метрика Mean Absolute Percentage Error (MAPE) показывает среднюю абсолютную ошибку (в процентах) предсказанных значений \n",
    "# от фактических\n",
    "\n",
    "mae_forest_regr = metrics.mean_absolute_error(y_test, y_pred).round(8)\n",
    "mape_forest_regr = (metrics.mean_absolute_percentage_error(y_test, y_pred) * 100).round(8)\n",
    "print(f'MAE: {mae_forest_regr}\\nMAPE: {mape_forest_regr}')"
   ]
  },
  {
   "cell_type": "code",
   "execution_count": 247,
   "metadata": {},
   "outputs": [
    {
     "data": {
      "image/png": "[encoded data removed]",
      "text/plain": [
       "<Figure size 1000x1500 with 1 Axes>"
      ]
     },
     "metadata": {},
     "output_type": "display_data"
    }
   ],
   "source": [
    "# в RandomForestRegressor есть возможность вывести самые важные признаки для модели\n",
    "\n",
    "plt.rcParams['figure.figsize'] = (10, 15)\n",
    "feat_importances = pd.Series(regr.feature_importances_, index=X.columns)\n",
    "feat_importances.nlargest(25).plot(kind='barh');"
   ]
  },
  {
   "cell_type": "code",
   "execution_count": 248,
   "metadata": {},
   "outputs": [
    {
     "data": {
      "text/html": [
       "<div>\n",
       "<style scoped>\n",
       "    .dataframe tbody tr th:only-of-type {\n",
       "        vertical-align: middle;\n",
       "    }\n",
       "\n",
       "    .dataframe tbody tr th {\n",
       "        vertical-align: top;\n",
       "    }\n",
       "\n",
       "    .dataframe thead th {\n",
       "        text-align: right;\n",
       "    }\n",
       "</style>\n",
       "<table border=\"1\" class=\"dataframe\">\n",
       "  <thead>\n",
       "    <tr style=\"text-align: right;\">\n",
       "      <th></th>\n",
       "      <th>additional_number_of_scoring</th>\n",
       "      <th>average_score</th>\n",
       "      <th>review_total_negative_word_counts</th>\n",
       "      <th>total_number_of_reviews</th>\n",
       "      <th>review_total_positive_word_counts</th>\n",
       "      <th>total_number_of_reviews_reviewer_has_given</th>\n",
       "      <th>reviewer_score</th>\n",
       "      <th>lat</th>\n",
       "      <th>lng</th>\n",
       "      <th>review_year</th>\n",
       "      <th>...</th>\n",
       "      <th>positive_price</th>\n",
       "      <th>positive_spa</th>\n",
       "      <th>pos_rev_neg</th>\n",
       "      <th>neg_rev_neg</th>\n",
       "      <th>pos_rev_neu</th>\n",
       "      <th>neg_rev_neu</th>\n",
       "      <th>pos_rev_pos</th>\n",
       "      <th>neg_rev_pos</th>\n",
       "      <th>pos_rev_compound</th>\n",
       "      <th>neg_rev_compound</th>\n",
       "    </tr>\n",
       "  </thead>\n",
       "  <tbody>\n",
       "    <tr>\n",
       "      <th>113957</th>\n",
       "      <td>149</td>\n",
       "      <td>8.1</td>\n",
       "      <td>12</td>\n",
       "      <td>1442</td>\n",
       "      <td>18</td>\n",
       "      <td>5</td>\n",
       "      <td>0.0</td>\n",
       "      <td>48.858952</td>\n",
       "      <td>2.367041</td>\n",
       "      <td>2017</td>\n",
       "      <td>...</td>\n",
       "      <td>0</td>\n",
       "      <td>1</td>\n",
       "      <td>0.000</td>\n",
       "      <td>0.000</td>\n",
       "      <td>0.829</td>\n",
       "      <td>0.596</td>\n",
       "      <td>0.171</td>\n",
       "      <td>0.404</td>\n",
       "      <td>0.4754</td>\n",
       "      <td>0.7267</td>\n",
       "    </tr>\n",
       "    <tr>\n",
       "      <th>39192</th>\n",
       "      <td>227</td>\n",
       "      <td>6.9</td>\n",
       "      <td>23</td>\n",
       "      <td>747</td>\n",
       "      <td>15</td>\n",
       "      <td>11</td>\n",
       "      <td>0.0</td>\n",
       "      <td>51.606805</td>\n",
       "      <td>0.059042</td>\n",
       "      <td>2016</td>\n",
       "      <td>...</td>\n",
       "      <td>0</td>\n",
       "      <td>0</td>\n",
       "      <td>0.000</td>\n",
       "      <td>0.000</td>\n",
       "      <td>1.000</td>\n",
       "      <td>1.000</td>\n",
       "      <td>0.000</td>\n",
       "      <td>0.000</td>\n",
       "      <td>0.0000</td>\n",
       "      <td>0.0000</td>\n",
       "    </tr>\n",
       "    <tr>\n",
       "      <th>42118</th>\n",
       "      <td>704</td>\n",
       "      <td>8.8</td>\n",
       "      <td>34</td>\n",
       "      <td>2617</td>\n",
       "      <td>28</td>\n",
       "      <td>8</td>\n",
       "      <td>0.0</td>\n",
       "      <td>51.520815</td>\n",
       "      <td>-0.091532</td>\n",
       "      <td>2017</td>\n",
       "      <td>...</td>\n",
       "      <td>0</td>\n",
       "      <td>0</td>\n",
       "      <td>0.000</td>\n",
       "      <td>0.000</td>\n",
       "      <td>0.550</td>\n",
       "      <td>1.000</td>\n",
       "      <td>0.450</td>\n",
       "      <td>0.000</td>\n",
       "      <td>0.9390</td>\n",
       "      <td>0.0000</td>\n",
       "    </tr>\n",
       "    <tr>\n",
       "      <th>23778</th>\n",
       "      <td>98</td>\n",
       "      <td>7.4</td>\n",
       "      <td>38</td>\n",
       "      <td>597</td>\n",
       "      <td>5</td>\n",
       "      <td>1</td>\n",
       "      <td>0.0</td>\n",
       "      <td>51.502103</td>\n",
       "      <td>-0.187901</td>\n",
       "      <td>2016</td>\n",
       "      <td>...</td>\n",
       "      <td>0</td>\n",
       "      <td>0</td>\n",
       "      <td>0.355</td>\n",
       "      <td>0.186</td>\n",
       "      <td>0.645</td>\n",
       "      <td>0.814</td>\n",
       "      <td>0.000</td>\n",
       "      <td>0.000</td>\n",
       "      <td>-0.2960</td>\n",
       "      <td>-0.7269</td>\n",
       "    </tr>\n",
       "    <tr>\n",
       "      <th>10673</th>\n",
       "      <td>421</td>\n",
       "      <td>9.2</td>\n",
       "      <td>0</td>\n",
       "      <td>1740</td>\n",
       "      <td>9</td>\n",
       "      <td>2</td>\n",
       "      <td>0.0</td>\n",
       "      <td>51.517240</td>\n",
       "      <td>-0.122032</td>\n",
       "      <td>2016</td>\n",
       "      <td>...</td>\n",
       "      <td>0</td>\n",
       "      <td>0</td>\n",
       "      <td>0.252</td>\n",
       "      <td>1.000</td>\n",
       "      <td>0.748</td>\n",
       "      <td>0.000</td>\n",
       "      <td>0.000</td>\n",
       "      <td>0.000</td>\n",
       "      <td>-0.4019</td>\n",
       "      <td>-0.7096</td>\n",
       "    </tr>\n",
       "  </tbody>\n",
       "</table>\n",
       "<p>5 rows × 88 columns</p>\n",
       "</div>"
      ],
      "text/plain": [
       "        additional_number_of_scoring  average_score  \\\n",
       "113957                           149            8.1   \n",
       "39192                            227            6.9   \n",
       "42118                            704            8.8   \n",
       "23778                             98            7.4   \n",
       "10673                            421            9.2   \n",
       "\n",
       "        review_total_negative_word_counts  total_number_of_reviews  \\\n",
       "113957                                 12                     1442   \n",
       "39192                                  23                      747   \n",
       "42118                                  34                     2617   \n",
       "23778                                  38                      597   \n",
       "10673                                   0                     1740   \n",
       "\n",
       "        review_total_positive_word_counts  \\\n",
       "113957                                 18   \n",
       "39192                                  15   \n",
       "42118                                  28   \n",
       "23778                                   5   \n",
       "10673                                   9   \n",
       "\n",
       "        total_number_of_reviews_reviewer_has_given  reviewer_score        lat  \\\n",
       "113957                                           5             0.0  48.858952   \n",
       "39192                                           11             0.0  51.606805   \n",
       "42118                                            8             0.0  51.520815   \n",
       "23778                                            1             0.0  51.502103   \n",
       "10673                                            2             0.0  51.517240   \n",
       "\n",
       "             lng  review_year  ...  positive_price  positive_spa  pos_rev_neg  \\\n",
       "113957  2.367041         2017  ...               0             1        0.000   \n",
       "39192   0.059042         2016  ...               0             0        0.000   \n",
       "42118  -0.091532         2017  ...               0             0        0.000   \n",
       "23778  -0.187901         2016  ...               0             0        0.355   \n",
       "10673  -0.122032         2016  ...               0             0        0.252   \n",
       "\n",
       "        neg_rev_neg  pos_rev_neu  neg_rev_neu  pos_rev_pos  neg_rev_pos  \\\n",
       "113957        0.000        0.829        0.596        0.171        0.404   \n",
       "39192         0.000        1.000        1.000        0.000        0.000   \n",
       "42118         0.000        0.550        1.000        0.450        0.000   \n",
       "23778         0.186        0.645        0.814        0.000        0.000   \n",
       "10673         1.000        0.748        0.000        0.000        0.000   \n",
       "\n",
       "        pos_rev_compound  neg_rev_compound  \n",
       "113957            0.4754            0.7267  \n",
       "39192             0.0000            0.0000  \n",
       "42118             0.9390            0.0000  \n",
       "23778            -0.2960           -0.7269  \n",
       "10673            -0.4019           -0.7096  \n",
       "\n",
       "[5 rows x 88 columns]"
      ]
     },
     "execution_count": 248,
     "metadata": {},
     "output_type": "execute_result"
    }
   ],
   "source": [
    "test_df.sample(5)"
   ]
  },
  {
   "cell_type": "code",
   "execution_count": 249,
   "metadata": {},
   "outputs": [],
   "source": [
    "# формируем код и удаляем признак \"reviewer_score\"\n",
    "data_test= test_df.drop(['reviewer_score'], axis=1)"
   ]
  },
  {
   "cell_type": "code",
   "execution_count": 250,
   "metadata": {},
   "outputs": [
    {
     "name": "stderr",
     "output_type": "stream",
     "text": [
      "[Parallel(n_jobs=4)]: Using backend ThreadingBackend with 4 concurrent workers.\n",
      "[Parallel(n_jobs=4)]: Done  42 tasks      | elapsed:    2.3s\n",
      "[Parallel(n_jobs=4)]: Done 100 out of 100 | elapsed:    5.1s finished\n"
     ]
    },
    {
     "data": {
      "text/plain": [
       "array([8.619, 7.351, 8.338, ..., 7.772, 9.445, 7.021])"
      ]
     },
     "metadata": {},
     "output_type": "display_data"
    }
   ],
   "source": [
    "# формируем код и выводим оценку отелей на основе модели\n",
    "predict_submission = regr.predict(data_test)\n",
    "display(predict_submission)"
   ]
  },
  {
   "cell_type": "code",
   "execution_count": 251,
   "metadata": {},
   "outputs": [
    {
     "data": {
      "text/html": [
       "<div>\n",
       "<style scoped>\n",
       "    .dataframe tbody tr th:only-of-type {\n",
       "        vertical-align: middle;\n",
       "    }\n",
       "\n",
       "    .dataframe tbody tr th {\n",
       "        vertical-align: top;\n",
       "    }\n",
       "\n",
       "    .dataframe thead th {\n",
       "        text-align: right;\n",
       "    }\n",
       "</style>\n",
       "<table border=\"1\" class=\"dataframe\">\n",
       "  <thead>\n",
       "    <tr style=\"text-align: right;\">\n",
       "      <th></th>\n",
       "      <th>reviewer_score</th>\n",
       "      <th>id</th>\n",
       "    </tr>\n",
       "  </thead>\n",
       "  <tbody>\n",
       "    <tr>\n",
       "      <th>0</th>\n",
       "      <td>1</td>\n",
       "      <td>488440</td>\n",
       "    </tr>\n",
       "    <tr>\n",
       "      <th>1</th>\n",
       "      <td>10</td>\n",
       "      <td>274649</td>\n",
       "    </tr>\n",
       "    <tr>\n",
       "      <th>2</th>\n",
       "      <td>3</td>\n",
       "      <td>374688</td>\n",
       "    </tr>\n",
       "    <tr>\n",
       "      <th>3</th>\n",
       "      <td>10</td>\n",
       "      <td>404352</td>\n",
       "    </tr>\n",
       "    <tr>\n",
       "      <th>4</th>\n",
       "      <td>9</td>\n",
       "      <td>451596</td>\n",
       "    </tr>\n",
       "    <tr>\n",
       "      <th>5</th>\n",
       "      <td>10</td>\n",
       "      <td>302161</td>\n",
       "    </tr>\n",
       "    <tr>\n",
       "      <th>6</th>\n",
       "      <td>10</td>\n",
       "      <td>317079</td>\n",
       "    </tr>\n",
       "    <tr>\n",
       "      <th>7</th>\n",
       "      <td>1</td>\n",
       "      <td>13963</td>\n",
       "    </tr>\n",
       "    <tr>\n",
       "      <th>8</th>\n",
       "      <td>4</td>\n",
       "      <td>159785</td>\n",
       "    </tr>\n",
       "    <tr>\n",
       "      <th>9</th>\n",
       "      <td>10</td>\n",
       "      <td>195089</td>\n",
       "    </tr>\n",
       "  </tbody>\n",
       "</table>\n",
       "</div>"
      ],
      "text/plain": [
       "   reviewer_score      id\n",
       "0               1  488440\n",
       "1              10  274649\n",
       "2               3  374688\n",
       "3              10  404352\n",
       "4               9  451596\n",
       "5              10  302161\n",
       "6              10  317079\n",
       "7               1   13963\n",
       "8               4  159785\n",
       "9              10  195089"
      ]
     },
     "execution_count": 251,
     "metadata": {},
     "output_type": "execute_result"
    }
   ],
   "source": [
    "sample_submission.head(10)"
   ]
  },
  {
   "cell_type": "code",
   "execution_count": 252,
   "metadata": {},
   "outputs": [],
   "source": [
    "# записываем в файл submission оценки на основании модели\n",
    "sample_submission['reviewer_score'] = predict_submission\n",
    "# записываем файл с оценками\n",
    "sample_submission.to_csv('submission_predict.csv', index=False)"
   ]
  }
 ],
 "metadata": {
  "kernelspec": {
   "display_name": "Python 3",
   "language": "python",
   "name": "python3"
  },
  "language_info": {
   "codemirror_mode": {
    "name": "ipython",
    "version": 3
   },
   "file_extension": ".py",
   "mimetype": "text/x-python",
   "name": "python",
   "nbconvert_exporter": "python",
   "pygments_lexer": "ipython3",
   "version": "3.9.10"
  }
 },
 "nbformat": 4,
 "nbformat_minor": 2
}
